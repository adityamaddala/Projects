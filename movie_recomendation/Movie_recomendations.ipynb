{
 "cells": [
  {
   "cell_type": "code",
   "execution_count": 61,
   "metadata": {},
   "outputs": [],
   "source": [
    "import pandas as pd\n",
    "import numpy as np\n",
    "import matplotlib.pyplot as plt\n",
    "import seaborn as sns"
   ]
  },
  {
   "cell_type": "code",
   "execution_count": 2,
   "metadata": {},
   "outputs": [],
   "source": [
    "df = pd.read_csv('movie_metadata.csv')"
   ]
  },
  {
   "cell_type": "code",
   "execution_count": 3,
   "metadata": {},
   "outputs": [
    {
     "data": {
      "text/html": [
       "<div>\n",
       "<style scoped>\n",
       "    .dataframe tbody tr th:only-of-type {\n",
       "        vertical-align: middle;\n",
       "    }\n",
       "\n",
       "    .dataframe tbody tr th {\n",
       "        vertical-align: top;\n",
       "    }\n",
       "\n",
       "    .dataframe thead th {\n",
       "        text-align: right;\n",
       "    }\n",
       "</style>\n",
       "<table border=\"1\" class=\"dataframe\">\n",
       "  <thead>\n",
       "    <tr style=\"text-align: right;\">\n",
       "      <th></th>\n",
       "      <th>color</th>\n",
       "      <th>director_name</th>\n",
       "      <th>num_critic_for_reviews</th>\n",
       "      <th>duration</th>\n",
       "      <th>director_facebook_likes</th>\n",
       "      <th>actor_3_facebook_likes</th>\n",
       "      <th>actor_2_name</th>\n",
       "      <th>actor_1_facebook_likes</th>\n",
       "      <th>gross</th>\n",
       "      <th>genres</th>\n",
       "      <th>...</th>\n",
       "      <th>num_user_for_reviews</th>\n",
       "      <th>language</th>\n",
       "      <th>country</th>\n",
       "      <th>content_rating</th>\n",
       "      <th>budget</th>\n",
       "      <th>title_year</th>\n",
       "      <th>actor_2_facebook_likes</th>\n",
       "      <th>imdb_score</th>\n",
       "      <th>aspect_ratio</th>\n",
       "      <th>movie_facebook_likes</th>\n",
       "    </tr>\n",
       "  </thead>\n",
       "  <tbody>\n",
       "    <tr>\n",
       "      <th>0</th>\n",
       "      <td>Color</td>\n",
       "      <td>James Cameron</td>\n",
       "      <td>723.0</td>\n",
       "      <td>178.0</td>\n",
       "      <td>0.0</td>\n",
       "      <td>855.0</td>\n",
       "      <td>Joel David Moore</td>\n",
       "      <td>1000.0</td>\n",
       "      <td>760505847.0</td>\n",
       "      <td>Action|Adventure|Fantasy|Sci-Fi</td>\n",
       "      <td>...</td>\n",
       "      <td>3054.0</td>\n",
       "      <td>English</td>\n",
       "      <td>USA</td>\n",
       "      <td>PG-13</td>\n",
       "      <td>237000000.0</td>\n",
       "      <td>2009.0</td>\n",
       "      <td>936.0</td>\n",
       "      <td>7.9</td>\n",
       "      <td>1.78</td>\n",
       "      <td>33000</td>\n",
       "    </tr>\n",
       "    <tr>\n",
       "      <th>1</th>\n",
       "      <td>Color</td>\n",
       "      <td>Gore Verbinski</td>\n",
       "      <td>302.0</td>\n",
       "      <td>169.0</td>\n",
       "      <td>563.0</td>\n",
       "      <td>1000.0</td>\n",
       "      <td>Orlando Bloom</td>\n",
       "      <td>40000.0</td>\n",
       "      <td>309404152.0</td>\n",
       "      <td>Action|Adventure|Fantasy</td>\n",
       "      <td>...</td>\n",
       "      <td>1238.0</td>\n",
       "      <td>English</td>\n",
       "      <td>USA</td>\n",
       "      <td>PG-13</td>\n",
       "      <td>300000000.0</td>\n",
       "      <td>2007.0</td>\n",
       "      <td>5000.0</td>\n",
       "      <td>7.1</td>\n",
       "      <td>2.35</td>\n",
       "      <td>0</td>\n",
       "    </tr>\n",
       "    <tr>\n",
       "      <th>2</th>\n",
       "      <td>Color</td>\n",
       "      <td>Sam Mendes</td>\n",
       "      <td>602.0</td>\n",
       "      <td>148.0</td>\n",
       "      <td>0.0</td>\n",
       "      <td>161.0</td>\n",
       "      <td>Rory Kinnear</td>\n",
       "      <td>11000.0</td>\n",
       "      <td>200074175.0</td>\n",
       "      <td>Action|Adventure|Thriller</td>\n",
       "      <td>...</td>\n",
       "      <td>994.0</td>\n",
       "      <td>English</td>\n",
       "      <td>UK</td>\n",
       "      <td>PG-13</td>\n",
       "      <td>245000000.0</td>\n",
       "      <td>2015.0</td>\n",
       "      <td>393.0</td>\n",
       "      <td>6.8</td>\n",
       "      <td>2.35</td>\n",
       "      <td>85000</td>\n",
       "    </tr>\n",
       "  </tbody>\n",
       "</table>\n",
       "<p>3 rows × 28 columns</p>\n",
       "</div>"
      ],
      "text/plain": [
       "   color   director_name  num_critic_for_reviews  duration  \\\n",
       "0  Color   James Cameron                   723.0     178.0   \n",
       "1  Color  Gore Verbinski                   302.0     169.0   \n",
       "2  Color      Sam Mendes                   602.0     148.0   \n",
       "\n",
       "   director_facebook_likes  actor_3_facebook_likes      actor_2_name  \\\n",
       "0                      0.0                   855.0  Joel David Moore   \n",
       "1                    563.0                  1000.0     Orlando Bloom   \n",
       "2                      0.0                   161.0      Rory Kinnear   \n",
       "\n",
       "   actor_1_facebook_likes        gross                           genres  ...  \\\n",
       "0                  1000.0  760505847.0  Action|Adventure|Fantasy|Sci-Fi  ...   \n",
       "1                 40000.0  309404152.0         Action|Adventure|Fantasy  ...   \n",
       "2                 11000.0  200074175.0        Action|Adventure|Thriller  ...   \n",
       "\n",
       "  num_user_for_reviews language  country  content_rating       budget  \\\n",
       "0               3054.0  English      USA           PG-13  237000000.0   \n",
       "1               1238.0  English      USA           PG-13  300000000.0   \n",
       "2                994.0  English       UK           PG-13  245000000.0   \n",
       "\n",
       "   title_year actor_2_facebook_likes imdb_score  aspect_ratio  \\\n",
       "0      2009.0                  936.0        7.9          1.78   \n",
       "1      2007.0                 5000.0        7.1          2.35   \n",
       "2      2015.0                  393.0        6.8          2.35   \n",
       "\n",
       "  movie_facebook_likes  \n",
       "0                33000  \n",
       "1                    0  \n",
       "2                85000  \n",
       "\n",
       "[3 rows x 28 columns]"
      ]
     },
     "execution_count": 3,
     "metadata": {},
     "output_type": "execute_result"
    }
   ],
   "source": [
    "df.head(3)"
   ]
  },
  {
   "cell_type": "code",
   "execution_count": 4,
   "metadata": {},
   "outputs": [
    {
     "data": {
      "text/plain": [
       "Index(['color', 'director_name', 'num_critic_for_reviews', 'duration',\n",
       "       'director_facebook_likes', 'actor_3_facebook_likes', 'actor_2_name',\n",
       "       'actor_1_facebook_likes', 'gross', 'genres', 'actor_1_name',\n",
       "       'movie_title', 'num_voted_users', 'cast_total_facebook_likes',\n",
       "       'actor_3_name', 'facenumber_in_poster', 'plot_keywords',\n",
       "       'movie_imdb_link', 'num_user_for_reviews', 'language', 'country',\n",
       "       'content_rating', 'budget', 'title_year', 'actor_2_facebook_likes',\n",
       "       'imdb_score', 'aspect_ratio', 'movie_facebook_likes'],\n",
       "      dtype='object')"
      ]
     },
     "execution_count": 4,
     "metadata": {},
     "output_type": "execute_result"
    }
   ],
   "source": [
    "df.columns"
   ]
  },
  {
   "cell_type": "code",
   "execution_count": 58,
   "metadata": {},
   "outputs": [
    {
     "name": "stdout",
     "output_type": "stream",
     "text": [
      "<class 'pandas.core.frame.DataFrame'>\n",
      "RangeIndex: 5043 entries, 0 to 5042\n",
      "Data columns (total 28 columns):\n",
      "color                        5024 non-null object\n",
      "director_name                4939 non-null object\n",
      "num_critic_for_reviews       4993 non-null float64\n",
      "duration                     5028 non-null float64\n",
      "director_facebook_likes      4939 non-null float64\n",
      "actor_3_facebook_likes       5020 non-null float64\n",
      "actor_2_name                 5030 non-null object\n",
      "actor_1_facebook_likes       5036 non-null float64\n",
      "gross                        4159 non-null float64\n",
      "genres                       5043 non-null object\n",
      "actor_1_name                 5036 non-null object\n",
      "movie_title                  5043 non-null object\n",
      "num_voted_users              5043 non-null int64\n",
      "cast_total_facebook_likes    5043 non-null int64\n",
      "actor_3_name                 5020 non-null object\n",
      "facenumber_in_poster         5030 non-null float64\n",
      "plot_keywords                4890 non-null object\n",
      "movie_imdb_link              5043 non-null object\n",
      "num_user_for_reviews         5022 non-null float64\n",
      "language                     5031 non-null object\n",
      "country                      5038 non-null object\n",
      "content_rating               4740 non-null object\n",
      "budget                       4551 non-null float64\n",
      "title_year                   4935 non-null float64\n",
      "actor_2_facebook_likes       5030 non-null float64\n",
      "imdb_score                   5043 non-null float64\n",
      "aspect_ratio                 4714 non-null float64\n",
      "movie_facebook_likes         5043 non-null int64\n",
      "dtypes: float64(13), int64(3), object(12)\n",
      "memory usage: 1.1+ MB\n"
     ]
    }
   ],
   "source": [
    "df.info()"
   ]
  },
  {
   "cell_type": "markdown",
   "metadata": {},
   "source": [
    "# EDA"
   ]
  },
  {
   "cell_type": "markdown",
   "metadata": {},
   "source": [
    "### Minimum and Maximum"
   ]
  },
  {
   "cell_type": "code",
   "execution_count": 18,
   "metadata": {},
   "outputs": [
    {
     "name": "stdout",
     "output_type": "stream",
     "text": [
      "Maximum length of the movie in minutes:  511.0\n",
      "Movie Name: 1710    Trapped             \n",
      "Name: movie_title, dtype: object \n",
      "\n",
      "Maximum length of the movie in minutes:  7.0\n",
      "Movie Name: 1947    Shaun the Sheep             \n",
      "2345                      The Touch \n",
      "Name: movie_title, dtype: object \n",
      "\n"
     ]
    }
   ],
   "source": [
    "# highest and lowest duration of movie\n",
    "\n",
    "print('Maximum length of the movie in minutes: ',df['duration'].max())\n",
    "print('Movie Name:',df[df['duration']==df['duration'].max()]['movie_title'],'\\n')\n",
    "\n",
    "print('Maximum length of the movie in minutes: ',df['duration'].min())\n",
    "print('Movie Name:',df[df['duration']==df['duration'].min()]['movie_title'],'\\n')\n",
    "\n",
    "\n"
   ]
  },
  {
   "cell_type": "code",
   "execution_count": 38,
   "metadata": {},
   "outputs": [
    {
     "name": "stdout",
     "output_type": "stream",
     "text": [
      "highest rated movie: 9.5 Movie Name: 2765    Towering Inferno             \n",
      "Name: movie_title, dtype: object\n",
      "\n",
      "Lowest rated movie: 1.6 Movie Name: 2834    Justin Bieber: Never Say Never \n",
      "Name: movie_title, dtype: object\n"
     ]
    }
   ],
   "source": [
    "# highest and lowest rating by IMDB\n",
    "\n",
    "\n",
    "print('highest rated movie:',df['imdb_score'].max(),'Movie Name:',df[df['imdb_score']==df['imdb_score'].max()]['movie_title'])\n",
    "\n",
    "\n",
    "\n",
    "print('\\nLowest rated movie:',df['imdb_score'].min(),'Movie Name:',df[df['imdb_score']==df['imdb_score'].min()]['movie_title'])"
   ]
  },
  {
   "cell_type": "code",
   "execution_count": 57,
   "metadata": {},
   "outputs": [
    {
     "name": "stdout",
     "output_type": "stream",
     "text": [
      "highest No.of Critic reviews  movie: 813.0 Movie Name: 3    The Dark Knight Rises \n",
      "Name: movie_title, dtype: object\n",
      "\n",
      "Lowest  No.of Critic reviews  movie: 1.0 Movie Name: 98    Godzilla Resurgence \n",
      "Name: movie_title, dtype: object\n"
     ]
    }
   ],
   "source": [
    "# highest and lowest  User reviews movie\n",
    "\n",
    "print('highest No.of Critic reviews  movie:',df['num_critic_for_reviews'].max(),'Movie Name:',df[df['num_critic_for_reviews']==df['num_critic_for_reviews'].max()]['movie_title'])\n",
    "\n",
    "\n",
    "\n",
    "print('\\nLowest  No.of Critic reviews  movie:',df['num_critic_for_reviews'].min(),'Movie Name:',df[df['num_critic_for_reviews']==df['num_critic_for_reviews'].min()]['movie_title'][:1])\n"
   ]
  },
  {
   "cell_type": "code",
   "execution_count": 45,
   "metadata": {},
   "outputs": [
    {
     "name": "stdout",
     "output_type": "stream",
     "text": [
      "highest User Reviews movie: 5060.0 Movie Name: 270    The Lord of the Rings: The Fellowship of the R...\n",
      "Name: movie_title, dtype: object\n",
      "\n",
      "Lowest User Revies movie: 1.0 Movie Name: 367    Ben-Hur \n",
      "Name: movie_title, dtype: object\n"
     ]
    }
   ],
   "source": [
    "# highest and lowest  User reviews movie\n",
    "\n",
    "print('highest User Reviews movie:',df['num_user_for_reviews'].max(),'Movie Name:',df[df['num_user_for_reviews']==df['num_user_for_reviews'].max()]['movie_title'])\n",
    "\n",
    "\n",
    "\n",
    "print('\\nLowest User Revies movie:',df['num_user_for_reviews'].min(),'Movie Name:',df[df['num_user_for_reviews']==df['num_user_for_reviews'].min()]['movie_title'][:1])\n"
   ]
  },
  {
   "cell_type": "code",
   "execution_count": 47,
   "metadata": {},
   "outputs": [
    {
     "name": "stdout",
     "output_type": "stream",
     "text": [
      "highest liked movie in FB: 349000 Movie Name: 96    Interstellar \n",
      "Name: movie_title, dtype: object\n",
      "\n",
      "Lowest liked movie in FB: 0 Movie Name: 1    Pirates of the Caribbean: At World's End \n",
      "Name: movie_title, dtype: object\n"
     ]
    }
   ],
   "source": [
    "# highest and lowest  Budget movie\n",
    "\n",
    "print('highest liked movie in FB:',df['movie_facebook_likes'].max(),'Movie Name:',df[df['movie_facebook_likes']==df['movie_facebook_likes'].max()]['movie_title'])\n",
    "\n",
    "\n",
    "\n",
    "print('\\nLowest liked movie in FB:',df['movie_facebook_likes'].min(),'Movie Name:',df[df['movie_facebook_likes']==df['movie_facebook_likes'].min()]['movie_title'][:1])\n"
   ]
  },
  {
   "cell_type": "code",
   "execution_count": 43,
   "metadata": {},
   "outputs": [
    {
     "name": "stdout",
     "output_type": "stream",
     "text": [
      "highest budget movie: 12215500000.0 Movie Name: 2988    The Host \n",
      "Name: movie_title, dtype: object\n",
      "\n",
      "Lowest budget movie: 218.0 Movie Name: 4799    Tarnation \n",
      "Name: movie_title, dtype: object\n"
     ]
    }
   ],
   "source": [
    "# highest and lowest  Budget movie\n",
    "\n",
    "print('highest budget movie:',df['budget'].max(),'Movie Name:',df[df['budget']==df['budget'].max()]['movie_title'])\n",
    "\n",
    "\n",
    "\n",
    "print('\\nLowest budget movie:',df['budget'].min(),'Movie Name:',df[df['budget']==df['budget'].min()]['movie_title'])\n"
   ]
  },
  {
   "cell_type": "code",
   "execution_count": 42,
   "metadata": {},
   "outputs": [
    {
     "name": "stdout",
     "output_type": "stream",
     "text": [
      "highest Gross movie: 760505847.0 Movie Name: 0    Avatar \n",
      "Name: movie_title, dtype: object\n",
      "\n",
      "Lowest Gross movie: 162.0 Movie Name: 3330    Skin Trade \n",
      "Name: movie_title, dtype: object\n"
     ]
    }
   ],
   "source": [
    "# highest and lowest  Gross movie\n",
    "\n",
    "print('highest Gross movie:',df['gross'].max(),'Movie Name:',df[df['gross']==df['gross'].max()]['movie_title'])\n",
    "\n",
    "\n",
    "\n",
    "print('\\nLowest Gross movie:',df['gross'].min(),'Movie Name:',df[df['gross']==df['gross'].min()]['movie_title'])\n"
   ]
  },
  {
   "cell_type": "code",
   "execution_count": null,
   "metadata": {},
   "outputs": [],
   "source": []
  },
  {
   "cell_type": "code",
   "execution_count": 80,
   "metadata": {},
   "outputs": [
    {
     "data": {
      "text/plain": [
       "Color               4815\n",
       " Black and White     209\n",
       "Name: color, dtype: int64"
      ]
     },
     "execution_count": 80,
     "metadata": {},
     "output_type": "execute_result"
    },
    {
     "data": {
      "image/png": "[encoded data removed]",
      "text/plain": [
       "<Figure size 432x288 with 1 Axes>"
      ]
     },
     "metadata": {
      "needs_background": "light"
     },
     "output_type": "display_data"
    }
   ],
   "source": [
    "sns.countplot(df['color'])\n",
    "df['color'].value_counts()"
   ]
  },
  {
   "cell_type": "code",
   "execution_count": 84,
   "metadata": {},
   "outputs": [
    {
     "data": {
      "text/plain": [
       "English       4704\n",
       "French          73\n",
       "Spanish         40\n",
       "Hindi           28\n",
       "Mandarin        26\n",
       "German          19\n",
       "Japanese        18\n",
       "Italian         11\n",
       "Russian         11\n",
       "Cantonese       11\n",
       "Korean           8\n",
       "Portuguese       8\n",
       "Swedish          5\n",
       "Arabic           5\n",
       "Danish           5\n",
       "Hebrew           5\n",
       "Polish           4\n",
       "Dutch            4\n",
       "Persian          4\n",
       "Norwegian        4\n",
       "Chinese          3\n",
       "Thai             3\n",
       "Romanian         2\n",
       "Aboriginal       2\n",
       "Indonesian       2\n",
       "Dari             2\n",
       "Zulu             2\n",
       "Icelandic        2\n",
       "None             2\n",
       "Vietnamese       1\n",
       "Telugu           1\n",
       "Czech            1\n",
       "Kazakh           1\n",
       "Swahili          1\n",
       "Aramaic          1\n",
       "Urdu             1\n",
       "Kannada          1\n",
       "Dzongkha         1\n",
       "Filipino         1\n",
       "Maya             1\n",
       "Tamil            1\n",
       "Slovenian        1\n",
       "Hungarian        1\n",
       "Bosnian          1\n",
       "Mongolian        1\n",
       "Greek            1\n",
       "Panjabi          1\n",
       "Name: language, dtype: int64"
      ]
     },
     "execution_count": 84,
     "metadata": {},
     "output_type": "execute_result"
    },
    {
     "data": {
      "image/png": "[encoded data removed]",
      "text/plain": [
       "<Figure size 1152x504 with 1 Axes>"
      ]
     },
     "metadata": {
      "needs_background": "light"
     },
     "output_type": "display_data"
    }
   ],
   "source": [
    "plt.figure(figsize=(16,7))\n",
    "sns.countplot(df['language'])\n",
    "df['language'].value_counts()"
   ]
  },
  {
   "cell_type": "code",
   "execution_count": 85,
   "metadata": {},
   "outputs": [
    {
     "data": {
      "text/plain": [
       "USA                     3807\n",
       "UK                       448\n",
       "France                   154\n",
       "Canada                   126\n",
       "Germany                   97\n",
       "Australia                 55\n",
       "India                     34\n",
       "Spain                     33\n",
       "China                     30\n",
       "Italy                     23\n",
       "Japan                     23\n",
       "Hong Kong                 17\n",
       "Mexico                    17\n",
       "New Zealand               15\n",
       "South Korea               14\n",
       "Ireland                   12\n",
       "Russia                    11\n",
       "Denmark                   11\n",
       "South Africa               8\n",
       "Norway                     8\n",
       "Brazil                     8\n",
       "Sweden                     6\n",
       "Poland                     5\n",
       "Thailand                   5\n",
       "Netherlands                5\n",
       "Israel                     4\n",
       "Romania                    4\n",
       "Belgium                    4\n",
       "Iran                       4\n",
       "Argentina                  4\n",
       "                        ... \n",
       "Hungary                    2\n",
       "Greece                     2\n",
       "Georgia                    1\n",
       "Slovenia                   1\n",
       "Bulgaria                   1\n",
       "Nigeria                    1\n",
       "Soviet Union               1\n",
       "New Line                   1\n",
       "Kyrgyzstan                 1\n",
       "Colombia                   1\n",
       "Official site              1\n",
       "Bahamas                    1\n",
       "Philippines                1\n",
       "Afghanistan                1\n",
       "Chile                      1\n",
       "Slovakia                   1\n",
       "Aruba                      1\n",
       "Cameroon                   1\n",
       "Finland                    1\n",
       "Dominican Republic         1\n",
       "Kenya                      1\n",
       "Pakistan                   1\n",
       "Peru                       1\n",
       "Egypt                      1\n",
       "Panama                     1\n",
       "Indonesia                  1\n",
       "Libya                      1\n",
       "Cambodia                   1\n",
       "United Arab Emirates       1\n",
       "Turkey                     1\n",
       "Name: country, Length: 65, dtype: int64"
      ]
     },
     "execution_count": 85,
     "metadata": {},
     "output_type": "execute_result"
    },
    {
     "data": {
      "image/png": "[encoded data removed]",
      "text/plain": [
       "<Figure size 1152x504 with 1 Axes>"
      ]
     },
     "metadata": {
      "needs_background": "light"
     },
     "output_type": "display_data"
    }
   ],
   "source": [
    "plt.figure(figsize=(16,7))\n",
    "sns.countplot(df['country'])\n",
    "df['country'].value_counts()"
   ]
  },
  {
   "cell_type": "code",
   "execution_count": 86,
   "metadata": {},
   "outputs": [
    {
     "data": {
      "text/plain": [
       "R            2118\n",
       "PG-13        1461\n",
       "PG            701\n",
       "Not Rated     116\n",
       "G             112\n",
       "Unrated        62\n",
       "Approved       55\n",
       "TV-14          30\n",
       "TV-MA          20\n",
       "TV-PG          13\n",
       "X              13\n",
       "TV-G           10\n",
       "Passed          9\n",
       "NC-17           7\n",
       "GP              6\n",
       "M               5\n",
       "TV-Y            1\n",
       "TV-Y7           1\n",
       "Name: content_rating, dtype: int64"
      ]
     },
     "execution_count": 86,
     "metadata": {},
     "output_type": "execute_result"
    },
    {
     "data": {
      "image/png": "[encoded data removed]",
      "text/plain": [
       "<Figure size 1152x504 with 1 Axes>"
      ]
     },
     "metadata": {
      "needs_background": "light"
     },
     "output_type": "display_data"
    }
   ],
   "source": [
    "plt.figure(figsize=(16,7))\n",
    "sns.countplot(df['content_rating'])\n",
    "df['content_rating'].value_counts()"
   ]
  },
  {
   "cell_type": "code",
   "execution_count": 94,
   "metadata": {},
   "outputs": [
    {
     "data": {
      "image/png": "[encoded data removed]",
      "text/plain": [
       "<Figure size 1152x504 with 1 Axes>"
      ]
     },
     "metadata": {
      "needs_background": "light"
     },
     "output_type": "display_data"
    }
   ],
   "source": [
    "plt.figure(figsize=(16,7))\n",
    "sns.distplot(df['duration'].dropna(axis=0),color='g')\n",
    "plt.show()"
   ]
  },
  {
   "cell_type": "code",
   "execution_count": 100,
   "metadata": {},
   "outputs": [
    {
     "data": {
      "image/png": "[encoded data removed]",
      "text/plain": [
       "<Figure size 1152x504 with 1 Axes>"
      ]
     },
     "metadata": {
      "needs_background": "light"
     },
     "output_type": "display_data"
    },
    {
     "data": {
      "text/plain": [
       "6.7    223\n",
       "6.6    201\n",
       "7.2    195\n",
       "6.5    186\n",
       "6.4    185\n",
       "7.3    184\n",
       "7.0    184\n",
       "7.1    181\n",
       "6.8    181\n",
       "6.1    179\n",
       "6.3    176\n",
       "6.2    175\n",
       "6.9    174\n",
       "7.4    147\n",
       "5.9    144\n",
       "7.5    140\n",
       "6.0    131\n",
       "7.6    124\n",
       "5.8    124\n",
       "5.7    117\n",
       "7.7    114\n",
       "5.6    112\n",
       "7.8    106\n",
       "5.4    104\n",
       "5.5     98\n",
       "5.3     92\n",
       "8.0     75\n",
       "7.9     75\n",
       "5.1     71\n",
       "8.1     69\n",
       "      ... \n",
       "3.5     15\n",
       "3.9     14\n",
       "3.8     14\n",
       "3.6     14\n",
       "8.7     13\n",
       "3.4     12\n",
       "2.8      9\n",
       "3.7      9\n",
       "3.1      8\n",
       "8.8      7\n",
       "3.2      7\n",
       "2.7      6\n",
       "3.0      5\n",
       "8.9      5\n",
       "2.9      4\n",
       "2.2      3\n",
       "2.1      3\n",
       "1.9      3\n",
       "9.0      3\n",
       "9.1      3\n",
       "2.3      3\n",
       "2.5      2\n",
       "2.0      2\n",
       "2.4      2\n",
       "2.6      2\n",
       "9.3      1\n",
       "1.7      1\n",
       "9.5      1\n",
       "9.2      1\n",
       "1.6      1\n",
       "Name: imdb_score, Length: 78, dtype: int64"
      ]
     },
     "execution_count": 100,
     "metadata": {},
     "output_type": "execute_result"
    }
   ],
   "source": [
    "plt.figure(figsize=(16,7))\n",
    "sns.distplot(df['imdb_score'].dropna(axis=0),color='m')\n",
    "plt.show()\n",
    "df['imdb_score'].value_counts()"
   ]
  },
  {
   "cell_type": "code",
   "execution_count": 102,
   "metadata": {
    "scrolled": true
   },
   "outputs": [
    {
     "data": {
      "image/png": "[encoded data removed]",
      "text/plain": [
       "<Figure size 1152x504 with 1 Axes>"
      ]
     },
     "metadata": {
      "needs_background": "light"
     },
     "output_type": "display_data"
    },
    {
     "data": {
      "text/plain": [
       "0         2181\n",
       "1000       109\n",
       "11000       83\n",
       "10000       81\n",
       "12000       62\n",
       "13000       58\n",
       "2000        56\n",
       "15000       53\n",
       "14000       50\n",
       "16000       47\n",
       "3000        40\n",
       "18000       37\n",
       "19000       35\n",
       "17000       34\n",
       "24000       31\n",
       "23000       28\n",
       "5000        28\n",
       "21000       27\n",
       "20000       27\n",
       "29000       21\n",
       "25000       20\n",
       "27000       20\n",
       "26000       18\n",
       "22000       16\n",
       "39000       16\n",
       "4000        16\n",
       "33000       16\n",
       "31000       15\n",
       "6000        14\n",
       "38000       14\n",
       "          ... \n",
       "826          1\n",
       "818          1\n",
       "609          1\n",
       "814          1\n",
       "465          1\n",
       "109000       1\n",
       "449          1\n",
       "441          1\n",
       "199000       1\n",
       "153000       1\n",
       "349          1\n",
       "112000       1\n",
       "79000        1\n",
       "998          1\n",
       "369          1\n",
       "373          1\n",
       "982          1\n",
       "978          1\n",
       "974          1\n",
       "385          1\n",
       "962          1\n",
       "954          1\n",
       "946          1\n",
       "409          1\n",
       "942          1\n",
       "68000        1\n",
       "417          1\n",
       "938          1\n",
       "429          1\n",
       "46           1\n",
       "Name: movie_facebook_likes, Length: 876, dtype: int64"
      ]
     },
     "execution_count": 102,
     "metadata": {},
     "output_type": "execute_result"
    }
   ],
   "source": [
    "plt.figure(figsize=(16,7))\n",
    "sns.distplot(df['movie_facebook_likes'].dropna(axis=0),color='g')\n",
    "plt.show()\n",
    "df['movie_facebook_likes'].value_counts()"
   ]
  },
  {
   "cell_type": "code",
   "execution_count": 104,
   "metadata": {},
   "outputs": [
    {
     "data": {
      "image/png": "[encoded data removed]",
      "text/plain": [
       "<Figure size 1152x504 with 1 Axes>"
      ]
     },
     "metadata": {
      "needs_background": "light"
     },
     "output_type": "display_data"
    },
    {
     "data": {
      "text/plain": [
       "1.0      43\n",
       "9.0      37\n",
       "5.0      36\n",
       "10.0     35\n",
       "8.0      35\n",
       "12.0     34\n",
       "16.0     33\n",
       "81.0     33\n",
       "43.0     31\n",
       "29.0     30\n",
       "63.0     29\n",
       "46.0     29\n",
       "25.0     29\n",
       "4.0      29\n",
       "50.0     28\n",
       "112.0    28\n",
       "15.0     28\n",
       "6.0      28\n",
       "21.0     28\n",
       "97.0     28\n",
       "64.0     28\n",
       "14.0     27\n",
       "56.0     27\n",
       "66.0     27\n",
       "78.0     26\n",
       "23.0     26\n",
       "39.0     26\n",
       "44.0     26\n",
       "98.0     26\n",
       "18.0     26\n",
       "         ..\n",
       "481.0     1\n",
       "518.0     1\n",
       "588.0     1\n",
       "307.0     1\n",
       "385.0     1\n",
       "493.0     1\n",
       "606.0     1\n",
       "733.0     1\n",
       "522.0     1\n",
       "311.0     1\n",
       "367.0     1\n",
       "813.0     1\n",
       "634.0     1\n",
       "495.0     1\n",
       "427.0     1\n",
       "549.0     1\n",
       "346.0     1\n",
       "534.0     1\n",
       "338.0     1\n",
       "423.0     1\n",
       "437.0     1\n",
       "509.0     1\n",
       "596.0     1\n",
       "356.0     1\n",
       "340.0     1\n",
       "460.0     1\n",
       "410.0     1\n",
       "765.0     1\n",
       "502.0     1\n",
       "775.0     1\n",
       "Name: num_critic_for_reviews, Length: 528, dtype: int64"
      ]
     },
     "execution_count": 104,
     "metadata": {},
     "output_type": "execute_result"
    }
   ],
   "source": [
    "plt.figure(figsize=(16,7))\n",
    "sns.distplot(df['num_critic_for_reviews'].dropna(axis=0),color='b')\n",
    "plt.show()\n",
    "df['num_critic_for_reviews'].value_counts()"
   ]
  },
  {
   "cell_type": "code",
   "execution_count": 105,
   "metadata": {},
   "outputs": [
    {
     "data": {
      "image/png": "[encoded data removed]",
      "text/plain": [
       "<Figure size 1152x504 with 1 Axes>"
      ]
     },
     "metadata": {
      "needs_background": "light"
     },
     "output_type": "display_data"
    },
    {
     "data": {
      "text/plain": [
       "1.0       51\n",
       "3.0       33\n",
       "2.0       32\n",
       "26.0      32\n",
       "10.0      29\n",
       "6.0       28\n",
       "50.0      26\n",
       "8.0       25\n",
       "32.0      25\n",
       "11.0      24\n",
       "31.0      24\n",
       "20.0      23\n",
       "4.0       23\n",
       "14.0      23\n",
       "9.0       23\n",
       "15.0      23\n",
       "33.0      22\n",
       "28.0      22\n",
       "21.0      22\n",
       "18.0      22\n",
       "27.0      22\n",
       "53.0      22\n",
       "39.0      22\n",
       "73.0      21\n",
       "40.0      20\n",
       "56.0      20\n",
       "37.0      20\n",
       "38.0      20\n",
       "23.0      20\n",
       "69.0      20\n",
       "          ..\n",
       "445.0      1\n",
       "701.0      1\n",
       "2814.0     1\n",
       "2067.0     1\n",
       "3646.0     1\n",
       "1009.0     1\n",
       "903.0      1\n",
       "565.0      1\n",
       "1110.0     1\n",
       "2047.0     1\n",
       "3054.0     1\n",
       "1912.0     1\n",
       "534.0      1\n",
       "788.0      1\n",
       "685.0      1\n",
       "964.0      1\n",
       "998.0      1\n",
       "2153.0     1\n",
       "5060.0     1\n",
       "2277.0     1\n",
       "1273.0     1\n",
       "1123.0     1\n",
       "2319.0     1\n",
       "1588.0     1\n",
       "1159.0     1\n",
       "2968.0     1\n",
       "722.0      1\n",
       "381.0      1\n",
       "1109.0     1\n",
       "484.0      1\n",
       "Name: num_user_for_reviews, Length: 954, dtype: int64"
      ]
     },
     "execution_count": 105,
     "metadata": {},
     "output_type": "execute_result"
    }
   ],
   "source": [
    "plt.figure(figsize=(16,7))\n",
    "sns.distplot(df['num_user_for_reviews'].dropna(axis=0),color='r')\n",
    "plt.show()\n",
    "df['num_user_for_reviews'].value_counts()"
   ]
  },
  {
   "cell_type": "code",
   "execution_count": 109,
   "metadata": {},
   "outputs": [
    {
     "data": {
      "image/png": "[encoded data removed]",
      "text/plain": [
       "<Figure size 1152x504 with 1 Axes>"
      ]
     },
     "metadata": {
      "needs_background": "light"
     },
     "output_type": "display_data"
    },
    {
     "data": {
      "text/plain": [
       "2009.0    260\n",
       "2014.0    252\n",
       "2006.0    239\n",
       "2013.0    237\n",
       "2010.0    230\n",
       "2015.0    226\n",
       "2011.0    225\n",
       "2008.0    225\n",
       "2012.0    221\n",
       "2005.0    221\n",
       "2004.0    214\n",
       "2002.0    209\n",
       "2007.0    204\n",
       "2001.0    188\n",
       "2000.0    171\n",
       "2003.0    169\n",
       "1999.0    168\n",
       "1998.0    134\n",
       "1997.0    118\n",
       "2016.0    106\n",
       "1996.0     99\n",
       "1995.0     70\n",
       "1994.0     54\n",
       "1993.0     48\n",
       "1992.0     34\n",
       "1981.0     33\n",
       "1989.0     33\n",
       "1987.0     32\n",
       "1991.0     31\n",
       "1988.0     31\n",
       "         ... \n",
       "1960.0      3\n",
       "1951.0      3\n",
       "1948.0      3\n",
       "1946.0      3\n",
       "1939.0      3\n",
       "1959.0      3\n",
       "1956.0      3\n",
       "1947.0      3\n",
       "1955.0      2\n",
       "1936.0      2\n",
       "1929.0      2\n",
       "1949.0      2\n",
       "1957.0      2\n",
       "1933.0      2\n",
       "1937.0      2\n",
       "1942.0      2\n",
       "1938.0      2\n",
       "1941.0      1\n",
       "1925.0      1\n",
       "1932.0      1\n",
       "1920.0      1\n",
       "1934.0      1\n",
       "1950.0      1\n",
       "1943.0      1\n",
       "1916.0      1\n",
       "1930.0      1\n",
       "1944.0      1\n",
       "1958.0      1\n",
       "1935.0      1\n",
       "1927.0      1\n",
       "Name: title_year, Length: 91, dtype: int64"
      ]
     },
     "execution_count": 109,
     "metadata": {},
     "output_type": "execute_result"
    }
   ],
   "source": [
    "plt.figure(figsize=(16,7))\n",
    "sns.distplot(df['title_year'].dropna(axis=0),color='m')\n",
    "plt.show()\n",
    "df['title_year'].value_counts()"
   ]
  },
  {
   "cell_type": "code",
   "execution_count": null,
   "metadata": {},
   "outputs": [],
   "source": []
  },
  {
   "cell_type": "markdown",
   "metadata": {},
   "source": [
    "# PreProcessing"
   ]
  },
  {
   "cell_type": "code",
   "execution_count": 157,
   "metadata": {},
   "outputs": [
    {
     "data": {
      "text/plain": [
       "Index(['color', 'director_name', 'num_critic_for_reviews', 'duration',\n",
       "       'director_facebook_likes', 'actor_3_facebook_likes', 'actor_2_name',\n",
       "       'actor_1_facebook_likes', 'gross', 'genres', 'actor_1_name',\n",
       "       'movie_title', 'num_voted_users', 'cast_total_facebook_likes',\n",
       "       'actor_3_name', 'facenumber_in_poster', 'plot_keywords',\n",
       "       'movie_imdb_link', 'num_user_for_reviews', 'language', 'country',\n",
       "       'content_rating', 'budget', 'title_year', 'actor_2_facebook_likes',\n",
       "       'imdb_score', 'aspect_ratio', 'movie_facebook_likes'],\n",
       "      dtype='object')"
      ]
     },
     "execution_count": 157,
     "metadata": {},
     "output_type": "execute_result"
    }
   ],
   "source": [
    "df.columns"
   ]
  },
  {
   "cell_type": "markdown",
   "metadata": {},
   "source": [
    "#### Keep the columns which are useful to recommendations"
   ]
  },
  {
   "cell_type": "code",
   "execution_count": 158,
   "metadata": {},
   "outputs": [],
   "source": [
    "# we know that title, genre,actor,director are the most useful columns to recommndation system.\n",
    "# So keep those columns and make them new dataset.\n",
    "\n",
    "data = df.loc[:,['actor_1_name','actor_2_name','actor_3_name','director_name','genres','movie_title']]"
   ]
  },
  {
   "cell_type": "code",
   "execution_count": 159,
   "metadata": {},
   "outputs": [
    {
     "data": {
      "text/html": [
       "<div>\n",
       "<style scoped>\n",
       "    .dataframe tbody tr th:only-of-type {\n",
       "        vertical-align: middle;\n",
       "    }\n",
       "\n",
       "    .dataframe tbody tr th {\n",
       "        vertical-align: top;\n",
       "    }\n",
       "\n",
       "    .dataframe thead th {\n",
       "        text-align: right;\n",
       "    }\n",
       "</style>\n",
       "<table border=\"1\" class=\"dataframe\">\n",
       "  <thead>\n",
       "    <tr style=\"text-align: right;\">\n",
       "      <th></th>\n",
       "      <th>actor_1_name</th>\n",
       "      <th>actor_2_name</th>\n",
       "      <th>actor_3_name</th>\n",
       "      <th>director_name</th>\n",
       "      <th>genres</th>\n",
       "      <th>movie_title</th>\n",
       "    </tr>\n",
       "  </thead>\n",
       "  <tbody>\n",
       "    <tr>\n",
       "      <th>0</th>\n",
       "      <td>CCH Pounder</td>\n",
       "      <td>Joel David Moore</td>\n",
       "      <td>Wes Studi</td>\n",
       "      <td>James Cameron</td>\n",
       "      <td>Action|Adventure|Fantasy|Sci-Fi</td>\n",
       "      <td>Avatar</td>\n",
       "    </tr>\n",
       "    <tr>\n",
       "      <th>1</th>\n",
       "      <td>Johnny Depp</td>\n",
       "      <td>Orlando Bloom</td>\n",
       "      <td>Jack Davenport</td>\n",
       "      <td>Gore Verbinski</td>\n",
       "      <td>Action|Adventure|Fantasy</td>\n",
       "      <td>Pirates of the Caribbean: At World's End</td>\n",
       "    </tr>\n",
       "  </tbody>\n",
       "</table>\n",
       "</div>"
      ],
      "text/plain": [
       "  actor_1_name      actor_2_name    actor_3_name   director_name  \\\n",
       "0  CCH Pounder  Joel David Moore       Wes Studi   James Cameron   \n",
       "1  Johnny Depp     Orlando Bloom  Jack Davenport  Gore Verbinski   \n",
       "\n",
       "                            genres                                movie_title  \n",
       "0  Action|Adventure|Fantasy|Sci-Fi                                    Avatar   \n",
       "1         Action|Adventure|Fantasy  Pirates of the Caribbean: At World's End   "
      ]
     },
     "execution_count": 159,
     "metadata": {},
     "output_type": "execute_result"
    }
   ],
   "source": [
    "data.head(2)"
   ]
  },
  {
   "cell_type": "code",
   "execution_count": 160,
   "metadata": {},
   "outputs": [
    {
     "name": "stdout",
     "output_type": "stream",
     "text": [
      "<class 'pandas.core.frame.DataFrame'>\n",
      "RangeIndex: 5043 entries, 0 to 5042\n",
      "Data columns (total 6 columns):\n",
      "actor_1_name     5036 non-null object\n",
      "actor_2_name     5030 non-null object\n",
      "actor_3_name     5020 non-null object\n",
      "director_name    4939 non-null object\n",
      "genres           5043 non-null object\n",
      "movie_title      5043 non-null object\n",
      "dtypes: object(6)\n",
      "memory usage: 236.5+ KB\n"
     ]
    }
   ],
   "source": [
    "data.info()"
   ]
  },
  {
   "cell_type": "code",
   "execution_count": null,
   "metadata": {},
   "outputs": [],
   "source": []
  },
  {
   "cell_type": "markdown",
   "metadata": {},
   "source": [
    "### Missing Values"
   ]
  },
  {
   "cell_type": "code",
   "execution_count": 161,
   "metadata": {},
   "outputs": [
    {
     "data": {
      "text/plain": [
       "actor_1_name       7\n",
       "actor_2_name      13\n",
       "actor_3_name      23\n",
       "director_name    104\n",
       "genres             0\n",
       "movie_title        0\n",
       "dtype: int64"
      ]
     },
     "execution_count": 161,
     "metadata": {},
     "output_type": "execute_result"
    }
   ],
   "source": [
    "data.isna().sum()"
   ]
  },
  {
   "cell_type": "code",
   "execution_count": 162,
   "metadata": {},
   "outputs": [
    {
     "data": {
      "text/plain": [
       "<matplotlib.axes._subplots.AxesSubplot at 0x18c0ad98cf8>"
      ]
     },
     "execution_count": 162,
     "metadata": {},
     "output_type": "execute_result"
    },
    {
     "data": {
      "image/png": "[encoded data removed]",
      "text/plain": [
       "<Figure size 720x504 with 2 Axes>"
      ]
     },
     "metadata": {
      "needs_background": "light"
     },
     "output_type": "display_data"
    }
   ],
   "source": [
    "plt.figure(figsize=(10,7))\n",
    "sns.heatmap(data.isna())"
   ]
  },
  {
   "cell_type": "code",
   "execution_count": 163,
   "metadata": {},
   "outputs": [],
   "source": [
    "# replacing null values in the all columns with string 'unknown'\n",
    "data['actor_1_name'] = data['actor_1_name'].replace(np.nan, 'unknown')\n",
    "data['actor_2_name'] = data['actor_2_name'].replace(np.nan, 'unknown')\n",
    "data['actor_3_name'] = data['actor_3_name'].replace(np.nan, 'unknown')\n",
    "data['director_name'] = data['director_name'].replace(np.nan, 'unknown')"
   ]
  },
  {
   "cell_type": "code",
   "execution_count": 164,
   "metadata": {},
   "outputs": [
    {
     "data": {
      "text/plain": [
       "actor_1_name     0\n",
       "actor_2_name     0\n",
       "actor_3_name     0\n",
       "director_name    0\n",
       "genres           0\n",
       "movie_title      0\n",
       "dtype: int64"
      ]
     },
     "execution_count": 164,
     "metadata": {},
     "output_type": "execute_result"
    }
   ],
   "source": [
    "data.isna().sum()"
   ]
  },
  {
   "cell_type": "code",
   "execution_count": 170,
   "metadata": {},
   "outputs": [
    {
     "data": {
      "text/plain": [
       "'Action|Adventure|Fantasy'"
      ]
     },
     "execution_count": 170,
     "metadata": {},
     "output_type": "execute_result"
    }
   ],
   "source": [
    "data['genres'][1]"
   ]
  },
  {
   "cell_type": "code",
   "execution_count": 179,
   "metadata": {},
   "outputs": [
    {
     "data": {
      "text/plain": [
       "'Action Adventure Fantasy Sci-Fi'"
      ]
     },
     "execution_count": 179,
     "metadata": {},
     "output_type": "execute_result"
    }
   ],
   "source": [
    "data['genres'][0].replace('|',' ')"
   ]
  },
  {
   "cell_type": "code",
   "execution_count": 181,
   "metadata": {},
   "outputs": [],
   "source": [
    "data['genres'] = data['genres'].str.replace('|',' ')"
   ]
  },
  {
   "cell_type": "code",
   "execution_count": null,
   "metadata": {},
   "outputs": [],
   "source": []
  },
  {
   "cell_type": "code",
   "execution_count": 184,
   "metadata": {},
   "outputs": [],
   "source": [
    "data['movie_title'] = data['movie_title'].str.lower()"
   ]
  },
  {
   "cell_type": "code",
   "execution_count": 186,
   "metadata": {},
   "outputs": [
    {
     "data": {
      "text/plain": [
       "'Avatar\\xa0'"
      ]
     },
     "execution_count": 186,
     "metadata": {},
     "output_type": "execute_result"
    }
   ],
   "source": [
    "data['movie_title'][0]"
   ]
  },
  {
   "cell_type": "code",
   "execution_count": 187,
   "metadata": {},
   "outputs": [
    {
     "data": {
      "text/plain": [
       "'the hobbit: an unexpected journey\\xa0'"
      ]
     },
     "execution_count": 187,
     "metadata": {},
     "output_type": "execute_result"
    }
   ],
   "source": [
    "data['movie_title'][99]"
   ]
  },
  {
   "cell_type": "code",
   "execution_count": 195,
   "metadata": {},
   "outputs": [
    {
     "data": {
      "text/plain": [
       "'avatar'"
      ]
     },
     "execution_count": 195,
     "metadata": {},
     "output_type": "execute_result"
    }
   ],
   "source": [
    "data['movie_title'][0][:-1]"
   ]
  },
  {
   "cell_type": "code",
   "execution_count": 196,
   "metadata": {},
   "outputs": [
    {
     "data": {
      "text/plain": [
       "'the hobbit: an unexpected journey'"
      ]
     },
     "execution_count": 196,
     "metadata": {},
     "output_type": "execute_result"
    }
   ],
   "source": [
    "data['movie_title'][99][:-1]"
   ]
  },
  {
   "cell_type": "code",
   "execution_count": 197,
   "metadata": {},
   "outputs": [],
   "source": [
    "data['movie_title'] = data['movie_title'].str[:-1]"
   ]
  },
  {
   "cell_type": "code",
   "execution_count": 198,
   "metadata": {},
   "outputs": [],
   "source": [
    "data.to_csv('movie_data.csv',index=False)"
   ]
  },
  {
   "cell_type": "code",
   "execution_count": null,
   "metadata": {},
   "outputs": [],
   "source": []
  },
  {
   "cell_type": "markdown",
   "metadata": {},
   "source": [
    "# Data Modeling"
   ]
  },
  {
   "cell_type": "code",
   "execution_count": 199,
   "metadata": {},
   "outputs": [
    {
     "data": {
      "text/html": [
       "<div>\n",
       "<style scoped>\n",
       "    .dataframe tbody tr th:only-of-type {\n",
       "        vertical-align: middle;\n",
       "    }\n",
       "\n",
       "    .dataframe tbody tr th {\n",
       "        vertical-align: top;\n",
       "    }\n",
       "\n",
       "    .dataframe thead th {\n",
       "        text-align: right;\n",
       "    }\n",
       "</style>\n",
       "<table border=\"1\" class=\"dataframe\">\n",
       "  <thead>\n",
       "    <tr style=\"text-align: right;\">\n",
       "      <th></th>\n",
       "      <th>actor_1_name</th>\n",
       "      <th>actor_2_name</th>\n",
       "      <th>actor_3_name</th>\n",
       "      <th>director_name</th>\n",
       "      <th>genres</th>\n",
       "      <th>movie_title</th>\n",
       "    </tr>\n",
       "  </thead>\n",
       "  <tbody>\n",
       "    <tr>\n",
       "      <th>0</th>\n",
       "      <td>CCH Pounder</td>\n",
       "      <td>Joel David Moore</td>\n",
       "      <td>Wes Studi</td>\n",
       "      <td>James Cameron</td>\n",
       "      <td>Action Adventure Fantasy Sci-Fi</td>\n",
       "      <td>avatar</td>\n",
       "    </tr>\n",
       "    <tr>\n",
       "      <th>1</th>\n",
       "      <td>Johnny Depp</td>\n",
       "      <td>Orlando Bloom</td>\n",
       "      <td>Jack Davenport</td>\n",
       "      <td>Gore Verbinski</td>\n",
       "      <td>Action Adventure Fantasy</td>\n",
       "      <td>pirates of the caribbean: at world's end</td>\n",
       "    </tr>\n",
       "    <tr>\n",
       "      <th>2</th>\n",
       "      <td>Christoph Waltz</td>\n",
       "      <td>Rory Kinnear</td>\n",
       "      <td>Stephanie Sigman</td>\n",
       "      <td>Sam Mendes</td>\n",
       "      <td>Action Adventure Thriller</td>\n",
       "      <td>spectre</td>\n",
       "    </tr>\n",
       "  </tbody>\n",
       "</table>\n",
       "</div>"
      ],
      "text/plain": [
       "      actor_1_name      actor_2_name      actor_3_name   director_name  \\\n",
       "0      CCH Pounder  Joel David Moore         Wes Studi   James Cameron   \n",
       "1      Johnny Depp     Orlando Bloom    Jack Davenport  Gore Verbinski   \n",
       "2  Christoph Waltz      Rory Kinnear  Stephanie Sigman      Sam Mendes   \n",
       "\n",
       "                            genres                               movie_title  \n",
       "0  Action Adventure Fantasy Sci-Fi                                    avatar  \n",
       "1         Action Adventure Fantasy  pirates of the caribbean: at world's end  \n",
       "2        Action Adventure Thriller                                   spectre  "
      ]
     },
     "execution_count": 199,
     "metadata": {},
     "output_type": "execute_result"
    }
   ],
   "source": [
    "df = pd.read_csv('movie_data.csv')\n",
    "df.head(3)"
   ]
  },
  {
   "cell_type": "code",
   "execution_count": 200,
   "metadata": {},
   "outputs": [],
   "source": [
    "df['comb'] = df['actor_1_name']+' '+df['actor_2_name']+' '+df['actor_3_name']+' '+df['movie_title']+' '+df['director_name']+' '+df['genres']"
   ]
  },
  {
   "cell_type": "code",
   "execution_count": 201,
   "metadata": {},
   "outputs": [
    {
     "data": {
      "text/plain": [
       "\"Johnny Depp Orlando Bloom Jack Davenport pirates of the caribbean: at world's end Gore Verbinski Action Adventure Fantasy\""
      ]
     },
     "execution_count": 201,
     "metadata": {},
     "output_type": "execute_result"
    }
   ],
   "source": [
    "df['comb'][1]"
   ]
  },
  {
   "cell_type": "code",
   "execution_count": 202,
   "metadata": {},
   "outputs": [
    {
     "data": {
      "text/html": [
       "<div>\n",
       "<style scoped>\n",
       "    .dataframe tbody tr th:only-of-type {\n",
       "        vertical-align: middle;\n",
       "    }\n",
       "\n",
       "    .dataframe tbody tr th {\n",
       "        vertical-align: top;\n",
       "    }\n",
       "\n",
       "    .dataframe thead th {\n",
       "        text-align: right;\n",
       "    }\n",
       "</style>\n",
       "<table border=\"1\" class=\"dataframe\">\n",
       "  <thead>\n",
       "    <tr style=\"text-align: right;\">\n",
       "      <th></th>\n",
       "      <th>actor_1_name</th>\n",
       "      <th>actor_2_name</th>\n",
       "      <th>actor_3_name</th>\n",
       "      <th>director_name</th>\n",
       "      <th>genres</th>\n",
       "      <th>movie_title</th>\n",
       "      <th>comb</th>\n",
       "    </tr>\n",
       "  </thead>\n",
       "  <tbody>\n",
       "    <tr>\n",
       "      <th>0</th>\n",
       "      <td>CCH Pounder</td>\n",
       "      <td>Joel David Moore</td>\n",
       "      <td>Wes Studi</td>\n",
       "      <td>James Cameron</td>\n",
       "      <td>Action Adventure Fantasy Sci-Fi</td>\n",
       "      <td>avatar</td>\n",
       "      <td>CCH Pounder Joel David Moore Wes Studi avatar ...</td>\n",
       "    </tr>\n",
       "    <tr>\n",
       "      <th>1</th>\n",
       "      <td>Johnny Depp</td>\n",
       "      <td>Orlando Bloom</td>\n",
       "      <td>Jack Davenport</td>\n",
       "      <td>Gore Verbinski</td>\n",
       "      <td>Action Adventure Fantasy</td>\n",
       "      <td>pirates of the caribbean: at world's end</td>\n",
       "      <td>Johnny Depp Orlando Bloom Jack Davenport pirat...</td>\n",
       "    </tr>\n",
       "  </tbody>\n",
       "</table>\n",
       "</div>"
      ],
      "text/plain": [
       "  actor_1_name      actor_2_name    actor_3_name   director_name  \\\n",
       "0  CCH Pounder  Joel David Moore       Wes Studi   James Cameron   \n",
       "1  Johnny Depp     Orlando Bloom  Jack Davenport  Gore Verbinski   \n",
       "\n",
       "                            genres                               movie_title  \\\n",
       "0  Action Adventure Fantasy Sci-Fi                                    avatar   \n",
       "1         Action Adventure Fantasy  pirates of the caribbean: at world's end   \n",
       "\n",
       "                                                comb  \n",
       "0  CCH Pounder Joel David Moore Wes Studi avatar ...  \n",
       "1  Johnny Depp Orlando Bloom Jack Davenport pirat...  "
      ]
     },
     "execution_count": 202,
     "metadata": {},
     "output_type": "execute_result"
    }
   ],
   "source": [
    "df.head(2)"
   ]
  },
  {
   "cell_type": "code",
   "execution_count": null,
   "metadata": {},
   "outputs": [],
   "source": []
  },
  {
   "cell_type": "code",
   "execution_count": 203,
   "metadata": {},
   "outputs": [],
   "source": [
    "from sklearn.feature_extraction.text import CountVectorizer\n",
    "from sklearn.metrics.pairwise import cosine_similarity"
   ]
  },
  {
   "cell_type": "code",
   "execution_count": 209,
   "metadata": {},
   "outputs": [
    {
     "name": "stdout",
     "output_type": "stream",
     "text": [
      "count ['000', '02', '10', '100', '1000', '102', '10th', '11', '12', '127', '13', '13th', '14', '1408', '15', '16', '17', '1776', '18', '1838', '19', '1911', '1941', '1974', '1982', '1984', '1st', '20', '200', '2000', '2001', '2012', '2016', '2046', '21', '22', '23', '24', '25th', '27', '28', '2½', '30', '300', '3000', '33', '39', '3d', '3rd', '40']\n"
     ]
    }
   ],
   "source": [
    "count_vect = CountVectorizer()\n",
    "count_matrix = count_vect.fit_transform(df['comb'])\n",
    "\n",
    "#print('count',count_vect.get_feature_names()[:50])"
   ]
  },
  {
   "cell_type": "code",
   "execution_count": 210,
   "metadata": {},
   "outputs": [
    {
     "data": {
      "text/plain": [
       "array([[1.        , 0.18257419, 0.1490712 , ..., 0.06900656, 0.        ,\n",
       "        0.        ],\n",
       "       [0.18257419, 1.        , 0.13608276, ..., 0.        , 0.        ,\n",
       "        0.        ],\n",
       "       [0.1490712 , 0.13608276, 1.        , ..., 0.07715167, 0.        ,\n",
       "        0.        ],\n",
       "       ...,\n",
       "       [0.06900656, 0.        , 0.07715167, ..., 1.        , 0.06900656,\n",
       "        0.        ],\n",
       "       [0.        , 0.        , 0.        , ..., 0.06900656, 1.        ,\n",
       "        0.        ],\n",
       "       [0.        , 0.        , 0.        , ..., 0.        , 0.        ,\n",
       "        1.        ]])"
      ]
     },
     "execution_count": 210,
     "metadata": {},
     "output_type": "execute_result"
    }
   ],
   "source": [
    "similar = cosine_similarity(count_matrix)\n",
    "similar"
   ]
  },
  {
   "cell_type": "code",
   "execution_count": 211,
   "metadata": {},
   "outputs": [],
   "source": [
    "# getting the index of the movie in the dataframe\n",
    "movie_index =  df.loc[df['movie_title']=='avatar'].index[0]"
   ]
  },
  {
   "cell_type": "code",
   "execution_count": 212,
   "metadata": {},
   "outputs": [],
   "source": [
    "# fetching the row containing similarity scores of the movie\n",
    "lst = list(enumerate(similar[movie_index]))"
   ]
  },
  {
   "cell_type": "code",
   "execution_count": 213,
   "metadata": {},
   "outputs": [
    {
     "data": {
      "text/plain": [
       "[(0, 0.9999999999999998),\n",
       " (1, 0.18257418583505536),\n",
       " (2, 0.14907119849998599),\n",
       " (3, 0.06666666666666665),\n",
       " (4, 0.0),\n",
       " (5, 0.2760262237369417),\n",
       " (6, 0.223606797749979),\n",
       " (7, 0.1333333333333333),\n",
       " (8, 0.25048971643405976),\n",
       " (9, 0.17770466332772766),\n",
       " (10, 0.25048971643405976),\n",
       " (11, 0.2760262237369417),\n",
       " (12, 0.14322297480788657),\n",
       " (13, 0.18257418583505536),\n",
       " (14, 0.13801311186847084),\n",
       " (15, 0.32274861218395134),\n",
       " (16, 0.18257418583505536),\n",
       " (17, 0.2666666666666666),\n",
       " (18, 0.18257418583505536),\n",
       " (19, 0.3042903097250923),\n",
       " (20, 0.15811388300841897),\n",
       " (21, 0.19999999999999996),\n",
       " (22, 0.12909944487358055),\n",
       " (23, 0.18257418583505536),\n",
       " (24, 0.1333333333333333),\n",
       " (25, 0.13801311186847084),\n",
       " (26, 0.1556997888323046),\n",
       " (27, 0.25048971643405976),\n",
       " (28, 0.2760262237369417),\n",
       " (29, 0.2581988897471611),\n",
       " (30, 0.14907119849998599),\n",
       " (31, 0.28644594961577313),\n",
       " (32, 0.2666666666666666),\n",
       " (33, 0.13801311186847084),\n",
       " (34, 0.3042903097250923),\n",
       " (35, 0.1333333333333333),\n",
       " (36, 0.25048971643405976),\n",
       " (37, 0.2581988897471611),\n",
       " (38, 0.19364916731037082),\n",
       " (39, 0.32274861218395134),\n",
       " (40, 0.3450327796711771),\n",
       " (41, 0.06900655593423542),\n",
       " (42, 0.2760262237369417),\n",
       " (43, 0.1333333333333333),\n",
       " (44, 0.28644594961577313),\n",
       " (45, 0.14907119849998599),\n",
       " (46, 0.2581988897471611),\n",
       " (47, 0.29617443887954614),\n",
       " (48, 0.2666666666666666),\n",
       " (49, 0.13801311186847084),\n",
       " (50, 0.0),\n",
       " (51, 0.1690308509457033),\n",
       " (52, 0.25048971643405976),\n",
       " (53, 0.25048971643405976),\n",
       " (54, 0.16514456476895406),\n",
       " (55, 0.11846977555181845),\n",
       " (56, 0.13801311186847084),\n",
       " (57, 0.2581988897471611),\n",
       " (58, 0.20701966780270625),\n",
       " (59, 0.06900655593423542),\n",
       " (60, 0.35805743701971643),\n",
       " (61, 0.06900655593423542),\n",
       " (62, 0.2760262237369417),\n",
       " (63, 0.19364916731037082),\n",
       " (64, 0.08856148855400951),\n",
       " (65, 0.2760262237369417),\n",
       " (66, 0.06666666666666665),\n",
       " (67, 0.07161148740394328),\n",
       " (68, 0.24343224778007383),\n",
       " (69, 0.2369395511036369),\n",
       " (70, 0.06900655593423542),\n",
       " (71, 0.18257418583505536),\n",
       " (72, 0.16514456476895406),\n",
       " (73, 0.32274861218395134),\n",
       " (74, 0.07161148740394328),\n",
       " (75, 0.2666666666666666),\n",
       " (76, 0.2760262237369417),\n",
       " (77, 0.2369395511036369),\n",
       " (78, 0.12909944487358055),\n",
       " (79, 0.1333333333333333),\n",
       " (80, 0.2369395511036369),\n",
       " (81, 0.1878672873255448),\n",
       " (82, 0.19999999999999996),\n",
       " (83, 0.2065591117977289),\n",
       " (84, 0.2666666666666666),\n",
       " (85, 0.19999999999999996),\n",
       " (86, 0.25048971643405976),\n",
       " (87, 0.12524485821702988),\n",
       " (88, 0.2666666666666666),\n",
       " (89, 0.2369395511036369),\n",
       " (90, 0.24343224778007383),\n",
       " (91, 0.1333333333333333),\n",
       " (92, 0.2666666666666666),\n",
       " (93, 0.12524485821702988),\n",
       " (94, 0.19999999999999996),\n",
       " (95, 0.32274861218395134),\n",
       " (96, 0.21483446221182984),\n",
       " (97, 0.2666666666666666),\n",
       " (98, 0.25048971643405976),\n",
       " (99, 0.19999999999999996),\n",
       " (100, 0.06085806194501846),\n",
       " (101, 0.12524485821702988),\n",
       " (102, 0.2666666666666666),\n",
       " (103, 0.17770466332772766),\n",
       " (104, 0.19364916731037082),\n",
       " (105, 0.14322297480788657),\n",
       " (106, 0.19364916731037082),\n",
       " (107, 0.12909944487358055),\n",
       " (108, 0.223606797749979),\n",
       " (109, 0.28644594961577313),\n",
       " (110, 0.09589266029707681),\n",
       " (111, 0.06900655593423542),\n",
       " (112, 0.2666666666666666),\n",
       " (113, 0.12524485821702988),\n",
       " (114, 0.16514456476895406),\n",
       " (115, 0.11846977555181845),\n",
       " (116, 0.0778498944161523),\n",
       " (117, 0.12909944487358055),\n",
       " (118, 0.1878672873255448),\n",
       " (119, 0.07161148740394328),\n",
       " (120, 0.14907119849998599),\n",
       " (121, 0.12171612389003691),\n",
       " (122, 0.11009637651263604),\n",
       " (123, 0.3131121455425747),\n",
       " (124, 0.20701966780270625),\n",
       " (125, 0.1333333333333333),\n",
       " (126, 0.20701966780270625),\n",
       " (127, 0.19999999999999996),\n",
       " (128, 0.25048971643405976),\n",
       " (129, 0.0),\n",
       " (130, 0.223606797749979),\n",
       " (131, 0.1333333333333333),\n",
       " (132, 0.3042903097250923),\n",
       " (133, 0.2666666666666666),\n",
       " (134, 0.06900655593423542),\n",
       " (135, 0.1333333333333333),\n",
       " (136, 0.06900655593423542),\n",
       " (137, 0.19364916731037082),\n",
       " (138, 0.06900655593423542),\n",
       " (139, 0.12171612389003691),\n",
       " (140, 0.19999999999999996),\n",
       " (141, 0.13801311186847084),\n",
       " (142, 0.06900655593423542),\n",
       " (143, 0.2369395511036369),\n",
       " (144, 0.19364916731037082),\n",
       " (145, 0.14907119849998599),\n",
       " (146, 0.1878672873255448),\n",
       " (147, 0.0816496580927726),\n",
       " (148, 0.06085806194501846),\n",
       " (149, 0.13801311186847084),\n",
       " (150, 0.2666666666666666),\n",
       " (151, 0.2760262237369417),\n",
       " (152, 0.28867513459481287),\n",
       " (153, 0.21483446221182984),\n",
       " (154, 0.12909944487358055),\n",
       " (155, 0.1333333333333333),\n",
       " (156, 0.12909944487358055),\n",
       " (157, 0.06454972243679027),\n",
       " (158, 0.06666666666666665),\n",
       " (159, 0.1333333333333333),\n",
       " (160, 0.28644594961577313),\n",
       " (161, 0.28644594961577313),\n",
       " (162, 0.17770466332772766),\n",
       " (163, 0.20701966780270625),\n",
       " (164, 0.2760262237369417),\n",
       " (165, 0.20701966780270625),\n",
       " (166, 0.07161148740394328),\n",
       " (167, 0.223606797749979),\n",
       " (168, 0.2666666666666666),\n",
       " (169, 0.14322297480788657),\n",
       " (170, 0.3230291412348993),\n",
       " (171, 0.25048971643405976),\n",
       " (172, 0.12524485821702988),\n",
       " (173, 0.21081851067789195),\n",
       " (174, 0.12171612389003691),\n",
       " (175, 0.0),\n",
       " (176, 0.2666666666666666),\n",
       " (177, 0.06666666666666665),\n",
       " (178, 0.14322297480788657),\n",
       " (179, 0.06900655593423542),\n",
       " (180, 0.13801311186847084),\n",
       " (181, 0.06900655593423542),\n",
       " (182, 0.06666666666666665),\n",
       " (183, 0.06900655593423542),\n",
       " (184, 0.12524485821702988),\n",
       " (185, 0.28644594961577313),\n",
       " (186, 0.1732050807568877),\n",
       " (187, 0.12171612389003691),\n",
       " (188, 0.2581988897471611),\n",
       " (189, 0.1878672873255448),\n",
       " (190, 0.06666666666666665),\n",
       " (191, 0.1878672873255448),\n",
       " (192, 0.06900655593423542),\n",
       " (193, 0.14907119849998599),\n",
       " (194, 0.12909944487358055),\n",
       " (195, 0.11846977555181845),\n",
       " (196, 0.07161148740394328),\n",
       " (197, 0.2760262237369417),\n",
       " (198, 0.07453559924999299),\n",
       " (199, 0.12171612389003691),\n",
       " (200, 0.11009637651263604),\n",
       " (201, 0.20701966780270625),\n",
       " (202, 0.12524485821702988),\n",
       " (203, 0.1556997888323046),\n",
       " (204, 0.25048971643405976),\n",
       " (205, 0.1438389904456152),\n",
       " (206, 0.06454972243679027),\n",
       " (207, 0.1732050807568877),\n",
       " (208, 0.0),\n",
       " (209, 0.06900655593423542),\n",
       " (210, 0.33333333333333326),\n",
       " (211, 0.07161148740394328),\n",
       " (212, 0.11846977555181845),\n",
       " (213, 0.19999999999999996),\n",
       " (214, 0.21483446221182984),\n",
       " (215, 0.13801311186847084),\n",
       " (216, 0.13801311186847084),\n",
       " (217, 0.1556997888323046),\n",
       " (218, 0.06262242910851494),\n",
       " (219, 0.25048971643405976),\n",
       " (220, 0.13801311186847084),\n",
       " (221, 0.12909944487358055),\n",
       " (222, 0.2369395511036369),\n",
       " (223, 0.14322297480788657),\n",
       " (224, 0.13801311186847084),\n",
       " (225, 0.07453559924999299),\n",
       " (226, 0.19999999999999996),\n",
       " (227, 0.21483446221182984),\n",
       " (228, 0.1333333333333333),\n",
       " (229, 0.20701966780270625),\n",
       " (230, 0.3131121455425747),\n",
       " (231, 0.20701966780270625),\n",
       " (232, 0.07161148740394328),\n",
       " (233, 0.06666666666666665),\n",
       " (234, 0.13801311186847084),\n",
       " (235, 0.2760262237369417),\n",
       " (236, 0.2817180849095055),\n",
       " (237, 0.2817180849095055),\n",
       " (238, 0.19999999999999996),\n",
       " (239, 0.33333333333333326),\n",
       " (240, 0.29617443887954614),\n",
       " (241, 0.12909944487358055),\n",
       " (242, 0.12524485821702988),\n",
       " (243, 0.07453559924999299),\n",
       " (244, 0.1878672873255448),\n",
       " (245, 0.25048971643405976),\n",
       " (246, 0.20701966780270625),\n",
       " (247, 0.13801311186847084),\n",
       " (248, 0.2253744679276044),\n",
       " (249, 0.25048971643405976),\n",
       " (250, 0.1878672873255448),\n",
       " (251, 0.13801311186847084),\n",
       " (252, 0.1333333333333333),\n",
       " (253, 0.06900655593423542),\n",
       " (254, 0.0),\n",
       " (255, 0.059234887775909226),\n",
       " (256, 0.28644594961577313),\n",
       " (257, 0.0),\n",
       " (258, 0.20701966780270625),\n",
       " (259, 0.1878672873255448),\n",
       " (260, 0.14907119849998599),\n",
       " (261, 0.12524485821702988),\n",
       " (262, 0.1333333333333333),\n",
       " (263, 0.0),\n",
       " (264, 0.33333333333333326),\n",
       " (265, 0.19364916731037082),\n",
       " (266, 0.1333333333333333),\n",
       " (267, 0.06454972243679027),\n",
       " (268, 0.21483446221182984),\n",
       " (269, 0.12909944487358055),\n",
       " (270, 0.12909944487358055),\n",
       " (271, 0.12171612389003691),\n",
       " (272, 0.0),\n",
       " (273, 0.11846977555181845),\n",
       " (274, 0.20701966780270625),\n",
       " (275, 0.12909944487358055),\n",
       " (276, 0.13801311186847084),\n",
       " (277, 0.0563436169819011),\n",
       " (278, 0.20701966780270625),\n",
       " (279, 0.0),\n",
       " (280, 0.2581988897471611),\n",
       " (281, 0.0),\n",
       " (282, 0.06454972243679027),\n",
       " (283, 0.07453559924999299),\n",
       " (284, 0.19999999999999996),\n",
       " (285, 0.11846977555181845),\n",
       " (286, 0.14322297480788657),\n",
       " (287, 0.24343224778007383),\n",
       " (288, 0.3450327796711771),\n",
       " (289, 0.0),\n",
       " (290, 0.0),\n",
       " (291, 0.20701966780270625),\n",
       " (292, 0.06666666666666665),\n",
       " (293, 0.0),\n",
       " (294, 0.06900655593423542),\n",
       " (295, 0.14322297480788657),\n",
       " (296, 0.0),\n",
       " (297, 0.06085806194501846),\n",
       " (298, 0.12524485821702988),\n",
       " (299, 0.14322297480788657),\n",
       " (300, 0.1333333333333333),\n",
       " (301, 0.21483446221182984),\n",
       " (302, 0.12524485821702988),\n",
       " (303, 0.14907119849998599),\n",
       " (304, 0.14322297480788657),\n",
       " (305, 0.06454972243679027),\n",
       " (306, 0.2666666666666666),\n",
       " (307, 0.07161148740394328),\n",
       " (308, 0.0),\n",
       " (309, 0.28644594961577313),\n",
       " (310, 0.20701966780270625),\n",
       " (311, 0.12524485821702988),\n",
       " (312, 0.15191090506254998),\n",
       " (313, 0.14322297480788657),\n",
       " (314, 0.14907119849998599),\n",
       " (315, 0.19364916731037082),\n",
       " (316, 0.19364916731037082),\n",
       " (317, 0.14322297480788657),\n",
       " (318, 0.06900655593423542),\n",
       " (319, 0.06666666666666665),\n",
       " (320, 0.11009637651263604),\n",
       " (321, 0.1878672873255448),\n",
       " (322, 0.06900655593423542),\n",
       " (323, 0.06666666666666665),\n",
       " (324, 0.06900655593423542),\n",
       " (325, 0.19999999999999996),\n",
       " (326, 0.0),\n",
       " (327, 0.0),\n",
       " (328, 0.0),\n",
       " (329, 0.1333333333333333),\n",
       " (330, 0.0),\n",
       " (331, 0.0),\n",
       " (332, 0.2666666666666666),\n",
       " (333, 0.0),\n",
       " (334, 0.06085806194501846),\n",
       " (335, 0.06666666666666665),\n",
       " (336, 0.14322297480788657),\n",
       " (337, 0.06900655593423542),\n",
       " (338, 0.06900655593423542),\n",
       " (339, 0.12909944487358055),\n",
       " (340, 0.15191090506254998),\n",
       " (341, 0.21483446221182984),\n",
       " (342, 0.1878672873255448),\n",
       " (343, 0.12909944487358055),\n",
       " (344, 0.2581988897471611),\n",
       " (345, 0.26352313834736496),\n",
       " (346, 0.13801311186847084),\n",
       " (347, 0.1333333333333333),\n",
       " (348, 0.0),\n",
       " (349, 0.13801311186847084),\n",
       " (350, 0.14322297480788657),\n",
       " (351, 0.11547005383792514),\n",
       " (352, 0.1878672873255448),\n",
       " (353, 0.12524485821702988),\n",
       " (354, 0.0778498944161523),\n",
       " (355, 0.06900655593423542),\n",
       " (356, 0.06454972243679027),\n",
       " (357, 0.12171612389003691),\n",
       " (358, 0.11846977555181845),\n",
       " (359, 0.11846977555181845),\n",
       " (360, 0.13801311186847084),\n",
       " (361, 0.0),\n",
       " (362, 0.12909944487358055),\n",
       " (363, 0.07161148740394328),\n",
       " (364, 0.05773502691896257),\n",
       " (365, 0.1333333333333333),\n",
       " (366, 0.12171612389003691),\n",
       " (367, 0.07161148740394328),\n",
       " (368, 0.29617443887954614),\n",
       " (369, 0.10767638041163309),\n",
       " (370, 0.0),\n",
       " (371, 0.06454972243679027),\n",
       " (372, 0.20701966780270625),\n",
       " (373, 0.2666666666666666),\n",
       " (374, 0.06262242910851494),\n",
       " (375, 0.13801311186847084),\n",
       " (376, 0.19999999999999996),\n",
       " (377, 0.0),\n",
       " (378, 0.12171612389003691),\n",
       " (379, 0.1690308509457033),\n",
       " (380, 0.12171612389003691),\n",
       " (381, 0.2581988897471611),\n",
       " (382, 0.07161148740394328),\n",
       " (383, 0.19364916731037082),\n",
       " (384, 0.06900655593423542),\n",
       " (385, 0.1333333333333333),\n",
       " (386, 0.20701966780270625),\n",
       " (387, 0.06666666666666665),\n",
       " (388, 0.0),\n",
       " (389, 0.25048971643405976),\n",
       " (390, 0.14907119849998599),\n",
       " (391, 0.0),\n",
       " (392, 0.12909944487358055),\n",
       " (393, 0.0),\n",
       " (394, 0.1333333333333333),\n",
       " (395, 0.06085806194501846),\n",
       " (396, 0.07161148740394328),\n",
       " (397, 0.0),\n",
       " (398, 0.06900655593423542),\n",
       " (399, 0.1333333333333333),\n",
       " (400, 0.0),\n",
       " (401, 0.13801311186847084),\n",
       " (402, 0.06900655593423542),\n",
       " (403, 0.06666666666666665),\n",
       " (404, 0.0),\n",
       " (405, 0.06900655593423542),\n",
       " (406, 0.07161148740394328),\n",
       " (407, 0.07161148740394328),\n",
       " (408, 0.0),\n",
       " (409, 0.06262242910851494),\n",
       " (410, 0.0),\n",
       " (411, 0.0),\n",
       " (412, 0.06900655593423542),\n",
       " (413, 0.28644594961577313),\n",
       " (414, 0.0),\n",
       " (415, 0.13801311186847084),\n",
       " (416, 0.25048971643405976),\n",
       " (417, 0.0),\n",
       " (418, 0.05504818825631802),\n",
       " (419, 0.1333333333333333),\n",
       " (420, 0.06900655593423542),\n",
       " (421, 0.07161148740394328),\n",
       " (422, 0.0),\n",
       " (423, 0.12524485821702988),\n",
       " (424, 0.12524485821702988),\n",
       " (425, 0.2666666666666666),\n",
       " (426, 0.12524485821702988),\n",
       " (427, 0.06666666666666665),\n",
       " (428, 0.223606797749979),\n",
       " (429, 0.14322297480788657),\n",
       " (430, 0.07453559924999299),\n",
       " (431, 0.11846977555181845),\n",
       " (432, 0.2760262237369417),\n",
       " (433, 0.28867513459481287),\n",
       " (434, 0.06666666666666665),\n",
       " (435, 0.19364916731037082),\n",
       " (436, 0.0),\n",
       " (437, 0.12524485821702988),\n",
       " (438, 0.1333333333333333),\n",
       " (439, 0.19364916731037082),\n",
       " (440, 0.0),\n",
       " (441, 0.0778498944161523),\n",
       " (442, 0.06666666666666665),\n",
       " (443, 0.28867513459481287),\n",
       " (444, 0.07161148740394328),\n",
       " (445, 0.19364916731037082),\n",
       " (446, 0.07161148740394328),\n",
       " (447, 0.0),\n",
       " (448, 0.11846977555181845),\n",
       " (449, 0.0),\n",
       " (450, 0.14322297480788657),\n",
       " (451, 0.0),\n",
       " (452, 0.0),\n",
       " (453, 0.0),\n",
       " (454, 0.19999999999999996),\n",
       " (455, 0.33333333333333326),\n",
       " (456, 0.06454972243679027),\n",
       " (457, 0.0),\n",
       " (458, 0.0),\n",
       " (459, 0.2666666666666666),\n",
       " (460, 0.07161148740394328),\n",
       " (461, 0.14907119849998599),\n",
       " (462, 0.06454972243679027),\n",
       " (463, 0.12909944487358055),\n",
       " (464, 0.14322297480788657),\n",
       " (465, 0.06666666666666665),\n",
       " (466, 0.24343224778007383),\n",
       " (467, 0.06454972243679027),\n",
       " (468, 0.11547005383792514),\n",
       " (469, 0.06666666666666665),\n",
       " (470, 0.14907119849998599),\n",
       " (471, 0.12909944487358055),\n",
       " (472, 0.06666666666666665),\n",
       " (473, 0.06262242910851494),\n",
       " (474, 0.0),\n",
       " (475, 0.25048971643405976),\n",
       " (476, 0.12524485821702988),\n",
       " (477, 0.0),\n",
       " (478, 0.06900655593423542),\n",
       " (479, 0.0778498944161523),\n",
       " (480, 0.13801311186847084),\n",
       " (481, 0.2666666666666666),\n",
       " (482, 0.2581988897471611),\n",
       " (483, 0.07453559924999299),\n",
       " (484, 0.1333333333333333),\n",
       " (485, 0.06666666666666665),\n",
       " (486, 0.07453559924999299),\n",
       " (487, 0.19364916731037082),\n",
       " (488, 0.20701966780270625),\n",
       " (489, 0.1333333333333333),\n",
       " (490, 0.12524485821702988),\n",
       " (491, 0.21483446221182984),\n",
       " (492, 0.0),\n",
       " (493, 0.14322297480788657),\n",
       " (494, 0.06666666666666665),\n",
       " (495, 0.2760262237369417),\n",
       " (496, 0.28867513459481287),\n",
       " (497, 0.0),\n",
       " (498, 0.28644594961577313),\n",
       " (499, 0.2581988897471611),\n",
       " (500, 0.12171612389003691),\n",
       " (501, 0.19999999999999996),\n",
       " (502, 0.20701966780270625),\n",
       " (503, 0.12909944487358055),\n",
       " (504, 0.0),\n",
       " (505, 0.3131121455425747),\n",
       " (506, 0.13801311186847084),\n",
       " (507, 0.07161148740394328),\n",
       " (508, 0.0),\n",
       " (509, 0.06454972243679027),\n",
       " (510, 0.29617443887954614),\n",
       " (511, 0.2369395511036369),\n",
       " (512, 0.0),\n",
       " (513, 0.1556997888323046),\n",
       " (514, 0.0),\n",
       " (515, 0.07161148740394328),\n",
       " (516, 0.19364916731037082),\n",
       " (517, 0.14322297480788657),\n",
       " (518, 0.11846977555181845),\n",
       " (519, 0.0),\n",
       " (520, 0.3042903097250923),\n",
       " (521, 0.12524485821702988),\n",
       " (522, 0.2760262237369417),\n",
       " (523, 0.24343224778007383),\n",
       " (524, 0.06666666666666665),\n",
       " (525, 0.1333333333333333),\n",
       " (526, 0.28644594961577313),\n",
       " (527, 0.14322297480788657),\n",
       " (528, 0.1333333333333333),\n",
       " (529, 0.18257418583505536),\n",
       " (530, 0.0),\n",
       " (531, 0.0),\n",
       " (532, 0.06900655593423542),\n",
       " (533, 0.32274861218395134),\n",
       " (534, 0.0),\n",
       " (535, 0.0),\n",
       " (536, 0.0),\n",
       " (537, 0.07453559924999299),\n",
       " (538, 0.0),\n",
       " (539, 0.13801311186847084),\n",
       " (540, 0.0),\n",
       " (541, 0.06454972243679027),\n",
       " (542, 0.0),\n",
       " (543, 0.0),\n",
       " (544, 0.0),\n",
       " (545, 0.0),\n",
       " (546, 0.06454972243679027),\n",
       " (547, 0.06900655593423542),\n",
       " (548, 0.13801311186847084),\n",
       " (549, 0.07453559924999299),\n",
       " (550, 0.06666666666666665),\n",
       " (551, 0.0),\n",
       " (552, 0.13801311186847084),\n",
       " (553, 0.0),\n",
       " (554, 0.14322297480788657),\n",
       " (555, 0.06666666666666665),\n",
       " (556, 0.2666666666666666),\n",
       " (557, 0.06900655593423542),\n",
       " (558, 0.20701966780270625),\n",
       " (559, 0.19999999999999996),\n",
       " (560, 0.07453559924999299),\n",
       " (561, 0.19364916731037082),\n",
       " (562, 0.13801311186847084),\n",
       " (563, 0.1878672873255448),\n",
       " (564, 0.14907119849998599),\n",
       " (565, 0.0),\n",
       " (566, 0.19999999999999996),\n",
       " (567, 0.06262242910851494),\n",
       " (568, 0.1333333333333333),\n",
       " (569, 0.0),\n",
       " (570, 0.07161148740394328),\n",
       " (571, 0.06085806194501846),\n",
       " (572, 0.07161148740394328),\n",
       " (573, 0.07161148740394328),\n",
       " (574, 0.14907119849998599),\n",
       " (575, 0.13801311186847084),\n",
       " (576, 0.0),\n",
       " (577, 0.06900655593423542),\n",
       " (578, 0.12524485821702988),\n",
       " (579, 0.0),\n",
       " (580, 0.07161148740394328),\n",
       " (581, 0.14322297480788657),\n",
       " (582, 0.1333333333333333),\n",
       " (583, 0.06454972243679027),\n",
       " (584, 0.0),\n",
       " (585, 0.1556997888323046),\n",
       " (586, 0.11547005383792514),\n",
       " (587, 0.0),\n",
       " (588, 0.07161148740394328),\n",
       " (589, 0.14322297480788657),\n",
       " (590, 0.14907119849998599),\n",
       " (591, 0.07453559924999299),\n",
       " (592, 0.14907119849998599),\n",
       " (593, 0.13801311186847084),\n",
       " (594, 0.2581988897471611),\n",
       " (595, 0.06262242910851494),\n",
       " (596, 0.1878672873255448),\n",
       " (597, 0.0563436169819011),\n",
       " (598, 0.06666666666666665),\n",
       " (599, 0.07161148740394328),\n",
       " (600, 0.23094010767585027),\n",
       " (601, 0.20701966780270625),\n",
       " (602, 0.14322297480788657),\n",
       " (603, 0.06900655593423542),\n",
       " (604, 0.0),\n",
       " (605, 0.0),\n",
       " (606, 0.32274861218395134),\n",
       " (607, 0.0),\n",
       " (608, 0.1333333333333333),\n",
       " (609, 0.07453559924999299),\n",
       " (610, 0.21483446221182984),\n",
       " (611, 0.06262242910851494),\n",
       " (612, 0.0),\n",
       " (613, 0.20701966780270625),\n",
       " (614, 0.2760262237369417),\n",
       " (615, 0.14322297480788657),\n",
       " (616, 0.21483446221182984),\n",
       " (617, 0.06454972243679027),\n",
       " (618, 0.0),\n",
       " (619, 0.06900655593423542),\n",
       " (620, 0.21483446221182984),\n",
       " (621, 0.1878672873255448),\n",
       " (622, 0.06900655593423542),\n",
       " (623, 0.24343224778007383),\n",
       " (624, 0.12171612389003691),\n",
       " (625, 0.06900655593423542),\n",
       " (626, 0.22019275302527208),\n",
       " (627, 0.0),\n",
       " (628, 0.19364916731037082),\n",
       " (629, 0.19999999999999996),\n",
       " (630, 0.06085806194501846),\n",
       " (631, 0.19364916731037082),\n",
       " (632, 0.0),\n",
       " (633, 0.0),\n",
       " (634, 0.06666666666666665),\n",
       " (635, 0.0),\n",
       " (636, 0.07161148740394328),\n",
       " (637, 0.3999999999999999),\n",
       " (638, 0.0),\n",
       " (639, 0.0),\n",
       " (640, 0.12909944487358055),\n",
       " (641, 0.06900655593423542),\n",
       " (642, 0.0),\n",
       " (643, 0.1333333333333333),\n",
       " (644, 0.07161148740394328),\n",
       " (645, 0.0),\n",
       " (646, 0.1333333333333333),\n",
       " (647, 0.19999999999999996),\n",
       " (648, 0.06900655593423542),\n",
       " (649, 0.06666666666666665),\n",
       " (650, 0.06900655593423542),\n",
       " (651, 0.06900655593423542),\n",
       " (652, 0.13801311186847084),\n",
       " (653, 0.0),\n",
       " (654, 0.21483446221182984),\n",
       " (655, 0.07161148740394328),\n",
       " (656, 0.21483446221182984),\n",
       " (657, 0.06900655593423542),\n",
       " (658, 0.0),\n",
       " (659, 0.0),\n",
       " (660, 0.0),\n",
       " (661, 0.12171612389003691),\n",
       " (662, 0.0),\n",
       " (663, 0.0),\n",
       " (664, 0.12524485821702988),\n",
       " (665, 0.1556997888323046),\n",
       " (666, 0.07161148740394328),\n",
       " (667, 0.06900655593423542),\n",
       " (668, 0.0),\n",
       " (669, 0.0),\n",
       " (670, 0.0),\n",
       " (671, 0.0),\n",
       " (672, 0.07161148740394328),\n",
       " (673, 0.0),\n",
       " (674, 0.07161148740394328),\n",
       " (675, 0.36514837167011077),\n",
       " (676, 0.07161148740394328),\n",
       " (677, 0.0),\n",
       " (678, 0.19364916731037082),\n",
       " (679, 0.20701966780270625),\n",
       " (680, 0.06262242910851494),\n",
       " (681, 0.06900655593423542),\n",
       " (682, 0.34641016151377546),\n",
       " (683, 0.0778498944161523),\n",
       " (684, 0.0),\n",
       " (685, 0.07453559924999299),\n",
       " (686, 0.21483446221182984),\n",
       " (687, 0.06900655593423542),\n",
       " (688, 0.2760262237369417),\n",
       " (689, 0.0),\n",
       " (690, 0.13801311186847084),\n",
       " (691, 0.06085806194501846),\n",
       " (692, 0.0),\n",
       " (693, 0.06454972243679027),\n",
       " (694, 0.12909944487358055),\n",
       " (695, 0.06666666666666665),\n",
       " (696, 0.25048971643405976),\n",
       " (697, 0.20701966780270625),\n",
       " (698, 0.06666666666666665),\n",
       " (699, 0.06454972243679027),\n",
       " (700, 0.12909944487358055),\n",
       " (701, 0.0),\n",
       " (702, 0.1556997888323046),\n",
       " (703, 0.0),\n",
       " (704, 0.0),\n",
       " (705, 0.06666666666666665),\n",
       " (706, 0.0),\n",
       " (707, 0.0),\n",
       " (708, 0.13801311186847084),\n",
       " (709, 0.14322297480788657),\n",
       " (710, 0.0),\n",
       " (711, 0.07161148740394328),\n",
       " (712, 0.06666666666666665),\n",
       " (713, 0.14322297480788657),\n",
       " (714, 0.19364916731037082),\n",
       " (715, 0.06900655593423542),\n",
       " (716, 0.06900655593423542),\n",
       " (717, 0.14322297480788657),\n",
       " (718, 0.0),\n",
       " (719, 0.12524485821702988),\n",
       " (720, 0.11547005383792514),\n",
       " (721, 0.0),\n",
       " (722, 0.06900655593423542),\n",
       " (723, 0.1333333333333333),\n",
       " (724, 0.06900655593423542),\n",
       " (725, 0.0),\n",
       " (726, 0.07161148740394328),\n",
       " (727, 0.0),\n",
       " (728, 0.06900655593423542),\n",
       " (729, 0.06666666666666665),\n",
       " (730, 0.2581988897471611),\n",
       " (731, 0.07161148740394328),\n",
       " (732, 0.06666666666666665),\n",
       " (733, 0.07161148740394328),\n",
       " (734, 0.0),\n",
       " (735, 0.0),\n",
       " (736, 0.0),\n",
       " (737, 0.19999999999999996),\n",
       " (738, 0.06666666666666665),\n",
       " (739, 0.13801311186847084),\n",
       " (740, 0.19999999999999996),\n",
       " (741, 0.0),\n",
       " (742, 0.0),\n",
       " (743, 0.20701966780270625),\n",
       " (744, 0.07453559924999299),\n",
       " (745, 0.14322297480788657),\n",
       " (746, 0.06666666666666665),\n",
       " (747, 0.2581988897471611),\n",
       " (748, 0.0),\n",
       " (749, 0.0),\n",
       " (750, 0.33333333333333326),\n",
       " (751, 0.0778498944161523),\n",
       " (752, 0.1333333333333333),\n",
       " (753, 0.13801311186847084),\n",
       " (754, 0.20701966780270625),\n",
       " (755, 0.0),\n",
       " (756, 0.12524485821702988),\n",
       " (757, 0.0),\n",
       " (758, 0.20701966780270625),\n",
       " (759, 0.06900655593423542),\n",
       " (760, 0.06666666666666665),\n",
       " (761, 0.07161148740394328),\n",
       " (762, 0.06666666666666665),\n",
       " (763, 0.19999999999999996),\n",
       " (764, 0.06900655593423542),\n",
       " (765, 0.12524485821702988),\n",
       " (766, 0.06900655593423542),\n",
       " (767, 0.1878672873255448),\n",
       " (768, 0.06454972243679027),\n",
       " (769, 0.3131121455425747),\n",
       " (770, 0.06900655593423542),\n",
       " (771, 0.07453559924999299),\n",
       " (772, 0.0),\n",
       " (773, 0.0),\n",
       " (774, 0.0),\n",
       " (775, 0.12909944487358055),\n",
       " (776, 0.14322297480788657),\n",
       " (777, 0.2581988897471611),\n",
       " (778, 0.2581988897471611),\n",
       " (779, 0.06900655593423542),\n",
       " (780, 0.0),\n",
       " (781, 0.0),\n",
       " (782, 0.12524485821702988),\n",
       " (783, 0.0),\n",
       " (784, 0.06454972243679027),\n",
       " (785, 0.06900655593423542),\n",
       " (786, 0.0),\n",
       " (787, 0.06454972243679027),\n",
       " (788, 0.1333333333333333),\n",
       " (789, 0.07161148740394328),\n",
       " (790, 0.12909944487358055),\n",
       " (791, 0.2666666666666666),\n",
       " (792, 0.1126872339638022),\n",
       " (793, 0.13801311186847084),\n",
       " (794, 0.2666666666666666),\n",
       " (795, 0.06900655593423542),\n",
       " (796, 0.0),\n",
       " (797, 0.19999999999999996),\n",
       " (798, 0.06666666666666665),\n",
       " (799, 0.14322297480788657),\n",
       " (800, 0.06900655593423542),\n",
       " (801, 0.18257418583505536),\n",
       " (802, 0.19364916731037082),\n",
       " (803, 0.0),\n",
       " (804, 0.0),\n",
       " (805, 0.14907119849998599),\n",
       " (806, 0.13801311186847084),\n",
       " (807, 0.14322297480788657),\n",
       " (808, 0.16151457061744964),\n",
       " (809, 0.06666666666666665),\n",
       " (810, 0.16514456476895406),\n",
       " (811, 0.13801311186847084),\n",
       " (812, 0.2666666666666666),\n",
       " (813, 0.0),\n",
       " (814, 0.06454972243679027),\n",
       " (815, 0.13801311186847084),\n",
       " (816, 0.06666666666666665),\n",
       " (817, 0.06900655593423542),\n",
       " (818, 0.11846977555181845),\n",
       " (819, 0.13801311186847084),\n",
       " (820, 0.0),\n",
       " (821, 0.0),\n",
       " (822, 0.0),\n",
       " (823, 0.0),\n",
       " (824, 0.2581988897471611),\n",
       " (825, 0.19364916731037082),\n",
       " (826, 0.0),\n",
       " (827, 0.0),\n",
       " (828, 0.0),\n",
       " (829, 0.223606797749979),\n",
       " (830, 0.06666666666666665),\n",
       " (831, 0.12909944487358055),\n",
       " (832, 0.0),\n",
       " (833, 0.0),\n",
       " (834, 0.06666666666666665),\n",
       " (835, 0.07453559924999299),\n",
       " (836, 0.0),\n",
       " (837, 0.06085806194501846),\n",
       " (838, 0.0),\n",
       " (839, 0.06454972243679027),\n",
       " (840, 0.2666666666666666),\n",
       " (841, 0.19364916731037082),\n",
       " (842, 0.0),\n",
       " (843, 0.12524485821702988),\n",
       " (844, 0.0),\n",
       " (845, 0.0),\n",
       " (846, 0.06900655593423542),\n",
       " (847, 0.07453559924999299),\n",
       " (848, 0.13801311186847084),\n",
       " (849, 0.0),\n",
       " (850, 0.06900655593423542),\n",
       " (851, 0.06900655593423542),\n",
       " (852, 0.0),\n",
       " (853, 0.0778498944161523),\n",
       " (854, 0.06900655593423542),\n",
       " (855, 0.14907119849998599),\n",
       " (856, 0.0),\n",
       " (857, 0.2760262237369417),\n",
       " (858, 0.06262242910851494),\n",
       " (859, 0.13801311186847084),\n",
       " (860, 0.06900655593423542),\n",
       " (861, 0.13801311186847084),\n",
       " (862, 0.14907119849998599),\n",
       " (863, 0.06666666666666665),\n",
       " (864, 0.20701966780270625),\n",
       " (865, 0.06900655593423542),\n",
       " (866, 0.28644594961577313),\n",
       " (867, 0.0),\n",
       " (868, 0.13801311186847084),\n",
       " (869, 0.059234887775909226),\n",
       " (870, 0.07161148740394328),\n",
       " (871, 0.20701966780270625),\n",
       " (872, 0.06900655593423542),\n",
       " (873, 0.0),\n",
       " (874, 0.0),\n",
       " (875, 0.0),\n",
       " (876, 0.06262242910851494),\n",
       " (877, 0.0),\n",
       " (878, 0.19999999999999996),\n",
       " (879, 0.06666666666666665),\n",
       " (880, 0.059234887775909226),\n",
       " (881, 0.0),\n",
       " (882, 0.21483446221182984),\n",
       " (883, 0.0),\n",
       " (884, 0.0778498944161523),\n",
       " (885, 0.06900655593423542),\n",
       " (886, 0.12909944487358055),\n",
       " (887, 0.2666666666666666),\n",
       " (888, 0.07161148740394328),\n",
       " (889, 0.0),\n",
       " (890, 0.07453559924999299),\n",
       " (891, 0.0),\n",
       " (892, 0.19364916731037082),\n",
       " (893, 0.0),\n",
       " (894, 0.06900655593423542),\n",
       " (895, 0.0),\n",
       " (896, 0.07453559924999299),\n",
       " (897, 0.0),\n",
       " (898, 0.2666666666666666),\n",
       " (899, 0.07453559924999299),\n",
       " (900, 0.0),\n",
       " (901, 0.07161148740394328),\n",
       " (902, 0.12524485821702988),\n",
       " (903, 0.0),\n",
       " (904, 0.0),\n",
       " (905, 0.0),\n",
       " (906, 0.0),\n",
       " (907, 0.0),\n",
       " (908, 0.07453559924999299),\n",
       " (909, 0.0),\n",
       " (910, 0.0),\n",
       " (911, 0.0),\n",
       " (912, 0.0),\n",
       " (913, 0.0),\n",
       " (914, 0.0),\n",
       " (915, 0.0),\n",
       " (916, 0.1333333333333333),\n",
       " (917, 0.0),\n",
       " (918, 0.14322297480788657),\n",
       " (919, 0.0),\n",
       " (920, 0.0),\n",
       " (921, 0.06666666666666665),\n",
       " (922, 0.14907119849998599),\n",
       " (923, 0.0),\n",
       " (924, 0.0),\n",
       " (925, 0.0),\n",
       " (926, 0.12524485821702988),\n",
       " (927, 0.13801311186847084),\n",
       " (928, 0.1333333333333333),\n",
       " (929, 0.12524485821702988),\n",
       " (930, 0.06900655593423542),\n",
       " (931, 0.06666666666666665),\n",
       " (932, 0.06085806194501846),\n",
       " (933, 0.0),\n",
       " (934, 0.0),\n",
       " (935, 0.0),\n",
       " (936, 0.223606797749979),\n",
       " (937, 0.0),\n",
       " (938, 0.0),\n",
       " (939, 0.06666666666666665),\n",
       " (940, 0.05504818825631802),\n",
       " (941, 0.0),\n",
       " (942, 0.06900655593423542),\n",
       " (943, 0.0),\n",
       " (944, 0.0),\n",
       " (945, 0.12909944487358055),\n",
       " (946, 0.06900655593423542),\n",
       " (947, 0.06900655593423542),\n",
       " (948, 0.2666666666666666),\n",
       " (949, 0.06900655593423542),\n",
       " (950, 0.13801311186847084),\n",
       " (951, 0.0),\n",
       " (952, 0.0),\n",
       " (953, 0.0),\n",
       " (954, 0.06900655593423542),\n",
       " (955, 0.0),\n",
       " (956, 0.0),\n",
       " (957, 0.07453559924999299),\n",
       " (958, 0.06900655593423542),\n",
       " (959, 0.28867513459481287),\n",
       " (960, 0.14322297480788657),\n",
       " (961, 0.20701966780270625),\n",
       " (962, 0.0),\n",
       " (963, 0.06900655593423542),\n",
       " (964, 0.12524485821702988),\n",
       " (965, 0.0),\n",
       " (966, 0.12909944487358055),\n",
       " (967, 0.0),\n",
       " (968, 0.2666666666666666),\n",
       " (969, 0.0),\n",
       " (970, 0.19999999999999996),\n",
       " (971, 0.11547005383792514),\n",
       " (972, 0.0),\n",
       " (973, 0.06085806194501846),\n",
       " (974, 0.14322297480788657),\n",
       " (975, 0.06666666666666665),\n",
       " (976, 0.06900655593423542),\n",
       " (977, 0.0),\n",
       " (978, 0.0),\n",
       " (979, 0.06454972243679027),\n",
       " (980, 0.06900655593423542),\n",
       " (981, 0.06454972243679027),\n",
       " (982, 0.06666666666666665),\n",
       " (983, 0.06666666666666665),\n",
       " (984, 0.07161148740394328),\n",
       " (985, 0.19364916731037082),\n",
       " (986, 0.0),\n",
       " (987, 0.0),\n",
       " (988, 0.1333333333333333),\n",
       " (989, 0.1732050807568877),\n",
       " (990, 0.06900655593423542),\n",
       " (991, 0.0),\n",
       " (992, 0.14907119849998599),\n",
       " (993, 0.0),\n",
       " (994, 0.07161148740394328),\n",
       " (995, 0.07161148740394328),\n",
       " (996, 0.0),\n",
       " (997, 0.07453559924999299),\n",
       " (998, 0.0),\n",
       " (999, 0.07453559924999299),\n",
       " ...]"
      ]
     },
     "execution_count": 213,
     "metadata": {},
     "output_type": "execute_result"
    }
   ],
   "source": [
    "lst"
   ]
  },
  {
   "cell_type": "code",
   "execution_count": 214,
   "metadata": {},
   "outputs": [],
   "source": [
    "\n",
    "lst = sorted(lst, key = lambda x:x[1] ,reverse=True)\n"
   ]
  },
  {
   "cell_type": "code",
   "execution_count": 216,
   "metadata": {},
   "outputs": [
    {
     "data": {
      "text/plain": [
       "[(0, 0.9999999999999998),\n",
       " (2486, 0.4296689244236597),\n",
       " (637, 0.3999999999999999),\n",
       " (1127, 0.3999999999999999),\n",
       " (1702, 0.37573457465108967),\n",
       " (675, 0.36514837167011077),\n",
       " (60, 0.35805743701971643),\n",
       " (1112, 0.35805743701971643),\n",
       " (2112, 0.35805743701971643),\n",
       " (3575, 0.35805743701971643)]"
      ]
     },
     "execution_count": 216,
     "metadata": {},
     "output_type": "execute_result"
    }
   ],
   "source": [
    "lst[:10]"
   ]
  },
  {
   "cell_type": "code",
   "execution_count": 217,
   "metadata": {},
   "outputs": [],
   "source": [
    "top_10 = lst[:10]"
   ]
  },
  {
   "cell_type": "code",
   "execution_count": 224,
   "metadata": {},
   "outputs": [],
   "source": [
    "movies=[]\n",
    "for i in range(len(top_10)):\n",
    "    \n",
    "    a = top_10[i][0]\n",
    "    movies.append(df['movie_title'][a])"
   ]
  },
  {
   "cell_type": "code",
   "execution_count": 219,
   "metadata": {},
   "outputs": [
    {
     "data": {
      "text/plain": [
       "['avatar',\n",
       " 'aliens',\n",
       " 'mystery men',\n",
       " 'deep rising',\n",
       " 'dragonball: evolution',\n",
       " 'blade: trinity',\n",
       " '2012',\n",
       " 'dune',\n",
       " 'robocop 3',\n",
       " 'the terminator']"
      ]
     },
     "execution_count": 219,
     "metadata": {},
     "output_type": "execute_result"
    }
   ],
   "source": [
    "movies"
   ]
  },
  {
   "cell_type": "code",
   "execution_count": 220,
   "metadata": {},
   "outputs": [],
   "source": [
    "def top_recomendations(movie):\n",
    "    movie_index =  df.loc[df['movie_title']==movie].index[0]\n",
    "    lst = list(enumerate(similar[movie_index]))\n",
    "    lst = sorted(lst, key = lambda x:x[1] ,reverse=True)\n",
    "    top_10 = lst[1:11]\n",
    "    \n",
    "    l=[]\n",
    "    for i in range(len(top_10)):\n",
    "    \n",
    "        a = top_10[i][0]\n",
    "        l.append(df['movie_title'][a])\n",
    "        \n",
    "    return l\n",
    "    \n",
    "    "
   ]
  },
  {
   "cell_type": "code",
   "execution_count": 221,
   "metadata": {},
   "outputs": [
    {
     "name": "stdout",
     "output_type": "stream",
     "text": [
      "['aliens', 'mystery men', 'deep rising', 'dragonball: evolution', 'blade: trinity', '2012', 'dune', 'robocop 3', 'the terminator', 'revolution\\xa0           ']\n"
     ]
    }
   ],
   "source": [
    "print(top_recomendations('avatar'))"
   ]
  },
  {
   "cell_type": "code",
   "execution_count": 222,
   "metadata": {},
   "outputs": [
    {
     "name": "stdout",
     "output_type": "stream",
     "text": [
      "['aliens', 'the abyss', 'megiddo: the omega code 2', 'terminator 2: judgment day', 'battle for the planet of the apes', 'the running man', 'damnation alley', 'the one', 'the divide', 'avatar']\n"
     ]
    }
   ],
   "source": [
    "print(top_recomendations('the terminator'))"
   ]
  },
  {
   "cell_type": "code",
   "execution_count": null,
   "metadata": {},
   "outputs": [],
   "source": []
  }
 ],
 "metadata": {
  "kernelspec": {
   "display_name": "Python 3",
   "language": "python",
   "name": "python3"
  },
  "language_info": {
   "codemirror_mode": {
    "name": "ipython",
    "version": 3
   },
   "file_extension": ".py",
   "mimetype": "text/x-python",
   "name": "python",
   "nbconvert_exporter": "python",
   "pygments_lexer": "ipython3",
   "version": "3.7.3"
  }
 },
 "nbformat": 4,
 "nbformat_minor": 2
}
